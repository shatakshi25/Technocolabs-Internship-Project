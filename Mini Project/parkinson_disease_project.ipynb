{
  "nbformat": 4,
  "nbformat_minor": 0,
  "metadata": {
    "colab": {
      "name": "parkinson disease project.ipynb",
      "provenance": [],
      "collapsed_sections": [],
      "toc_visible": true
    },
    "kernelspec": {
      "name": "python3",
      "display_name": "Python 3"
    }
  },
  "cells": [
    {
      "cell_type": "markdown",
      "metadata": {
        "id": "k6WGMsTuQagU",
        "colab_type": "text"
      },
      "source": [
        "# **Parkinson's Disease Detection**"
      ]
    },
    {
      "cell_type": "markdown",
      "metadata": {
        "id": "1jrWEWIWQrtW",
        "colab_type": "text"
      },
      "source": [
        "Importing the required libraries"
      ]
    },
    {
      "cell_type": "code",
      "metadata": {
        "id": "SYHs_Vj9m5Kf",
        "colab_type": "code",
        "colab": {}
      },
      "source": [
        "#import libraries\n",
        "import numpy as np\n",
        "import pandas as pd"
      ],
      "execution_count": null,
      "outputs": []
    },
    {
      "cell_type": "markdown",
      "metadata": {
        "id": "OvKQhNS1RExb",
        "colab_type": "text"
      },
      "source": [
        "Loading the data"
      ]
    },
    {
      "cell_type": "code",
      "metadata": {
        "id": "-AOwGUtQnWaj",
        "colab_type": "code",
        "colab": {
          "base_uri": "https://localhost:8080/",
          "height": 439
        },
        "outputId": "8fe902af-016c-4c7b-aa83-fdb5e77c86b9"
      },
      "source": [
        "#load the data\n",
        "data = pd.read_csv(\"/content/drive/My Drive/parkinsons.data\")\n",
        "data"
      ],
      "execution_count": null,
      "outputs": [
        {
          "output_type": "execute_result",
          "data": {
            "text/html": [
              "<div>\n",
              "<style scoped>\n",
              "    .dataframe tbody tr th:only-of-type {\n",
              "        vertical-align: middle;\n",
              "    }\n",
              "\n",
              "    .dataframe tbody tr th {\n",
              "        vertical-align: top;\n",
              "    }\n",
              "\n",
              "    .dataframe thead th {\n",
              "        text-align: right;\n",
              "    }\n",
              "</style>\n",
              "<table border=\"1\" class=\"dataframe\">\n",
              "  <thead>\n",
              "    <tr style=\"text-align: right;\">\n",
              "      <th></th>\n",
              "      <th>name</th>\n",
              "      <th>MDVP:Fo(Hz)</th>\n",
              "      <th>MDVP:Fhi(Hz)</th>\n",
              "      <th>MDVP:Flo(Hz)</th>\n",
              "      <th>MDVP:Jitter(%)</th>\n",
              "      <th>MDVP:Jitter(Abs)</th>\n",
              "      <th>MDVP:RAP</th>\n",
              "      <th>MDVP:PPQ</th>\n",
              "      <th>Jitter:DDP</th>\n",
              "      <th>MDVP:Shimmer</th>\n",
              "      <th>MDVP:Shimmer(dB)</th>\n",
              "      <th>Shimmer:APQ3</th>\n",
              "      <th>Shimmer:APQ5</th>\n",
              "      <th>MDVP:APQ</th>\n",
              "      <th>Shimmer:DDA</th>\n",
              "      <th>NHR</th>\n",
              "      <th>HNR</th>\n",
              "      <th>status</th>\n",
              "      <th>RPDE</th>\n",
              "      <th>DFA</th>\n",
              "      <th>spread1</th>\n",
              "      <th>spread2</th>\n",
              "      <th>D2</th>\n",
              "      <th>PPE</th>\n",
              "    </tr>\n",
              "  </thead>\n",
              "  <tbody>\n",
              "    <tr>\n",
              "      <th>0</th>\n",
              "      <td>phon_R01_S01_1</td>\n",
              "      <td>119.992</td>\n",
              "      <td>157.302</td>\n",
              "      <td>74.997</td>\n",
              "      <td>0.00784</td>\n",
              "      <td>0.00007</td>\n",
              "      <td>0.00370</td>\n",
              "      <td>0.00554</td>\n",
              "      <td>0.01109</td>\n",
              "      <td>0.04374</td>\n",
              "      <td>0.426</td>\n",
              "      <td>0.02182</td>\n",
              "      <td>0.03130</td>\n",
              "      <td>0.02971</td>\n",
              "      <td>0.06545</td>\n",
              "      <td>0.02211</td>\n",
              "      <td>21.033</td>\n",
              "      <td>1</td>\n",
              "      <td>0.414783</td>\n",
              "      <td>0.815285</td>\n",
              "      <td>-4.813031</td>\n",
              "      <td>0.266482</td>\n",
              "      <td>2.301442</td>\n",
              "      <td>0.284654</td>\n",
              "    </tr>\n",
              "    <tr>\n",
              "      <th>1</th>\n",
              "      <td>phon_R01_S01_2</td>\n",
              "      <td>122.400</td>\n",
              "      <td>148.650</td>\n",
              "      <td>113.819</td>\n",
              "      <td>0.00968</td>\n",
              "      <td>0.00008</td>\n",
              "      <td>0.00465</td>\n",
              "      <td>0.00696</td>\n",
              "      <td>0.01394</td>\n",
              "      <td>0.06134</td>\n",
              "      <td>0.626</td>\n",
              "      <td>0.03134</td>\n",
              "      <td>0.04518</td>\n",
              "      <td>0.04368</td>\n",
              "      <td>0.09403</td>\n",
              "      <td>0.01929</td>\n",
              "      <td>19.085</td>\n",
              "      <td>1</td>\n",
              "      <td>0.458359</td>\n",
              "      <td>0.819521</td>\n",
              "      <td>-4.075192</td>\n",
              "      <td>0.335590</td>\n",
              "      <td>2.486855</td>\n",
              "      <td>0.368674</td>\n",
              "    </tr>\n",
              "    <tr>\n",
              "      <th>2</th>\n",
              "      <td>phon_R01_S01_3</td>\n",
              "      <td>116.682</td>\n",
              "      <td>131.111</td>\n",
              "      <td>111.555</td>\n",
              "      <td>0.01050</td>\n",
              "      <td>0.00009</td>\n",
              "      <td>0.00544</td>\n",
              "      <td>0.00781</td>\n",
              "      <td>0.01633</td>\n",
              "      <td>0.05233</td>\n",
              "      <td>0.482</td>\n",
              "      <td>0.02757</td>\n",
              "      <td>0.03858</td>\n",
              "      <td>0.03590</td>\n",
              "      <td>0.08270</td>\n",
              "      <td>0.01309</td>\n",
              "      <td>20.651</td>\n",
              "      <td>1</td>\n",
              "      <td>0.429895</td>\n",
              "      <td>0.825288</td>\n",
              "      <td>-4.443179</td>\n",
              "      <td>0.311173</td>\n",
              "      <td>2.342259</td>\n",
              "      <td>0.332634</td>\n",
              "    </tr>\n",
              "    <tr>\n",
              "      <th>3</th>\n",
              "      <td>phon_R01_S01_4</td>\n",
              "      <td>116.676</td>\n",
              "      <td>137.871</td>\n",
              "      <td>111.366</td>\n",
              "      <td>0.00997</td>\n",
              "      <td>0.00009</td>\n",
              "      <td>0.00502</td>\n",
              "      <td>0.00698</td>\n",
              "      <td>0.01505</td>\n",
              "      <td>0.05492</td>\n",
              "      <td>0.517</td>\n",
              "      <td>0.02924</td>\n",
              "      <td>0.04005</td>\n",
              "      <td>0.03772</td>\n",
              "      <td>0.08771</td>\n",
              "      <td>0.01353</td>\n",
              "      <td>20.644</td>\n",
              "      <td>1</td>\n",
              "      <td>0.434969</td>\n",
              "      <td>0.819235</td>\n",
              "      <td>-4.117501</td>\n",
              "      <td>0.334147</td>\n",
              "      <td>2.405554</td>\n",
              "      <td>0.368975</td>\n",
              "    </tr>\n",
              "    <tr>\n",
              "      <th>4</th>\n",
              "      <td>phon_R01_S01_5</td>\n",
              "      <td>116.014</td>\n",
              "      <td>141.781</td>\n",
              "      <td>110.655</td>\n",
              "      <td>0.01284</td>\n",
              "      <td>0.00011</td>\n",
              "      <td>0.00655</td>\n",
              "      <td>0.00908</td>\n",
              "      <td>0.01966</td>\n",
              "      <td>0.06425</td>\n",
              "      <td>0.584</td>\n",
              "      <td>0.03490</td>\n",
              "      <td>0.04825</td>\n",
              "      <td>0.04465</td>\n",
              "      <td>0.10470</td>\n",
              "      <td>0.01767</td>\n",
              "      <td>19.649</td>\n",
              "      <td>1</td>\n",
              "      <td>0.417356</td>\n",
              "      <td>0.823484</td>\n",
              "      <td>-3.747787</td>\n",
              "      <td>0.234513</td>\n",
              "      <td>2.332180</td>\n",
              "      <td>0.410335</td>\n",
              "    </tr>\n",
              "    <tr>\n",
              "      <th>...</th>\n",
              "      <td>...</td>\n",
              "      <td>...</td>\n",
              "      <td>...</td>\n",
              "      <td>...</td>\n",
              "      <td>...</td>\n",
              "      <td>...</td>\n",
              "      <td>...</td>\n",
              "      <td>...</td>\n",
              "      <td>...</td>\n",
              "      <td>...</td>\n",
              "      <td>...</td>\n",
              "      <td>...</td>\n",
              "      <td>...</td>\n",
              "      <td>...</td>\n",
              "      <td>...</td>\n",
              "      <td>...</td>\n",
              "      <td>...</td>\n",
              "      <td>...</td>\n",
              "      <td>...</td>\n",
              "      <td>...</td>\n",
              "      <td>...</td>\n",
              "      <td>...</td>\n",
              "      <td>...</td>\n",
              "      <td>...</td>\n",
              "    </tr>\n",
              "    <tr>\n",
              "      <th>190</th>\n",
              "      <td>phon_R01_S50_2</td>\n",
              "      <td>174.188</td>\n",
              "      <td>230.978</td>\n",
              "      <td>94.261</td>\n",
              "      <td>0.00459</td>\n",
              "      <td>0.00003</td>\n",
              "      <td>0.00263</td>\n",
              "      <td>0.00259</td>\n",
              "      <td>0.00790</td>\n",
              "      <td>0.04087</td>\n",
              "      <td>0.405</td>\n",
              "      <td>0.02336</td>\n",
              "      <td>0.02498</td>\n",
              "      <td>0.02745</td>\n",
              "      <td>0.07008</td>\n",
              "      <td>0.02764</td>\n",
              "      <td>19.517</td>\n",
              "      <td>0</td>\n",
              "      <td>0.448439</td>\n",
              "      <td>0.657899</td>\n",
              "      <td>-6.538586</td>\n",
              "      <td>0.121952</td>\n",
              "      <td>2.657476</td>\n",
              "      <td>0.133050</td>\n",
              "    </tr>\n",
              "    <tr>\n",
              "      <th>191</th>\n",
              "      <td>phon_R01_S50_3</td>\n",
              "      <td>209.516</td>\n",
              "      <td>253.017</td>\n",
              "      <td>89.488</td>\n",
              "      <td>0.00564</td>\n",
              "      <td>0.00003</td>\n",
              "      <td>0.00331</td>\n",
              "      <td>0.00292</td>\n",
              "      <td>0.00994</td>\n",
              "      <td>0.02751</td>\n",
              "      <td>0.263</td>\n",
              "      <td>0.01604</td>\n",
              "      <td>0.01657</td>\n",
              "      <td>0.01879</td>\n",
              "      <td>0.04812</td>\n",
              "      <td>0.01810</td>\n",
              "      <td>19.147</td>\n",
              "      <td>0</td>\n",
              "      <td>0.431674</td>\n",
              "      <td>0.683244</td>\n",
              "      <td>-6.195325</td>\n",
              "      <td>0.129303</td>\n",
              "      <td>2.784312</td>\n",
              "      <td>0.168895</td>\n",
              "    </tr>\n",
              "    <tr>\n",
              "      <th>192</th>\n",
              "      <td>phon_R01_S50_4</td>\n",
              "      <td>174.688</td>\n",
              "      <td>240.005</td>\n",
              "      <td>74.287</td>\n",
              "      <td>0.01360</td>\n",
              "      <td>0.00008</td>\n",
              "      <td>0.00624</td>\n",
              "      <td>0.00564</td>\n",
              "      <td>0.01873</td>\n",
              "      <td>0.02308</td>\n",
              "      <td>0.256</td>\n",
              "      <td>0.01268</td>\n",
              "      <td>0.01365</td>\n",
              "      <td>0.01667</td>\n",
              "      <td>0.03804</td>\n",
              "      <td>0.10715</td>\n",
              "      <td>17.883</td>\n",
              "      <td>0</td>\n",
              "      <td>0.407567</td>\n",
              "      <td>0.655683</td>\n",
              "      <td>-6.787197</td>\n",
              "      <td>0.158453</td>\n",
              "      <td>2.679772</td>\n",
              "      <td>0.131728</td>\n",
              "    </tr>\n",
              "    <tr>\n",
              "      <th>193</th>\n",
              "      <td>phon_R01_S50_5</td>\n",
              "      <td>198.764</td>\n",
              "      <td>396.961</td>\n",
              "      <td>74.904</td>\n",
              "      <td>0.00740</td>\n",
              "      <td>0.00004</td>\n",
              "      <td>0.00370</td>\n",
              "      <td>0.00390</td>\n",
              "      <td>0.01109</td>\n",
              "      <td>0.02296</td>\n",
              "      <td>0.241</td>\n",
              "      <td>0.01265</td>\n",
              "      <td>0.01321</td>\n",
              "      <td>0.01588</td>\n",
              "      <td>0.03794</td>\n",
              "      <td>0.07223</td>\n",
              "      <td>19.020</td>\n",
              "      <td>0</td>\n",
              "      <td>0.451221</td>\n",
              "      <td>0.643956</td>\n",
              "      <td>-6.744577</td>\n",
              "      <td>0.207454</td>\n",
              "      <td>2.138608</td>\n",
              "      <td>0.123306</td>\n",
              "    </tr>\n",
              "    <tr>\n",
              "      <th>194</th>\n",
              "      <td>phon_R01_S50_6</td>\n",
              "      <td>214.289</td>\n",
              "      <td>260.277</td>\n",
              "      <td>77.973</td>\n",
              "      <td>0.00567</td>\n",
              "      <td>0.00003</td>\n",
              "      <td>0.00295</td>\n",
              "      <td>0.00317</td>\n",
              "      <td>0.00885</td>\n",
              "      <td>0.01884</td>\n",
              "      <td>0.190</td>\n",
              "      <td>0.01026</td>\n",
              "      <td>0.01161</td>\n",
              "      <td>0.01373</td>\n",
              "      <td>0.03078</td>\n",
              "      <td>0.04398</td>\n",
              "      <td>21.209</td>\n",
              "      <td>0</td>\n",
              "      <td>0.462803</td>\n",
              "      <td>0.664357</td>\n",
              "      <td>-5.724056</td>\n",
              "      <td>0.190667</td>\n",
              "      <td>2.555477</td>\n",
              "      <td>0.148569</td>\n",
              "    </tr>\n",
              "  </tbody>\n",
              "</table>\n",
              "<p>195 rows × 24 columns</p>\n",
              "</div>"
            ],
            "text/plain": [
              "               name  MDVP:Fo(Hz)  MDVP:Fhi(Hz)  ...   spread2        D2       PPE\n",
              "0    phon_R01_S01_1      119.992       157.302  ...  0.266482  2.301442  0.284654\n",
              "1    phon_R01_S01_2      122.400       148.650  ...  0.335590  2.486855  0.368674\n",
              "2    phon_R01_S01_3      116.682       131.111  ...  0.311173  2.342259  0.332634\n",
              "3    phon_R01_S01_4      116.676       137.871  ...  0.334147  2.405554  0.368975\n",
              "4    phon_R01_S01_5      116.014       141.781  ...  0.234513  2.332180  0.410335\n",
              "..              ...          ...           ...  ...       ...       ...       ...\n",
              "190  phon_R01_S50_2      174.188       230.978  ...  0.121952  2.657476  0.133050\n",
              "191  phon_R01_S50_3      209.516       253.017  ...  0.129303  2.784312  0.168895\n",
              "192  phon_R01_S50_4      174.688       240.005  ...  0.158453  2.679772  0.131728\n",
              "193  phon_R01_S50_5      198.764       396.961  ...  0.207454  2.138608  0.123306\n",
              "194  phon_R01_S50_6      214.289       260.277  ...  0.190667  2.555477  0.148569\n",
              "\n",
              "[195 rows x 24 columns]"
            ]
          },
          "metadata": {
            "tags": []
          },
          "execution_count": 2
        }
      ]
    },
    {
      "cell_type": "code",
      "metadata": {
        "id": "3WpEeM9dTdOn",
        "colab_type": "code",
        "colab": {
          "base_uri": "https://localhost:8080/",
          "height": 255
        },
        "outputId": "697a4c1e-8bfb-410c-ab0d-a78ed0b34f0e"
      },
      "source": [
        "data.describe"
      ],
      "execution_count": null,
      "outputs": [
        {
          "output_type": "execute_result",
          "data": {
            "text/plain": [
              "<bound method NDFrame.describe of                name  MDVP:Fo(Hz)  MDVP:Fhi(Hz)  ...   spread2        D2       PPE\n",
              "0    phon_R01_S01_1      119.992       157.302  ...  0.266482  2.301442  0.284654\n",
              "1    phon_R01_S01_2      122.400       148.650  ...  0.335590  2.486855  0.368674\n",
              "2    phon_R01_S01_3      116.682       131.111  ...  0.311173  2.342259  0.332634\n",
              "3    phon_R01_S01_4      116.676       137.871  ...  0.334147  2.405554  0.368975\n",
              "4    phon_R01_S01_5      116.014       141.781  ...  0.234513  2.332180  0.410335\n",
              "..              ...          ...           ...  ...       ...       ...       ...\n",
              "190  phon_R01_S50_2      174.188       230.978  ...  0.121952  2.657476  0.133050\n",
              "191  phon_R01_S50_3      209.516       253.017  ...  0.129303  2.784312  0.168895\n",
              "192  phon_R01_S50_4      174.688       240.005  ...  0.158453  2.679772  0.131728\n",
              "193  phon_R01_S50_5      198.764       396.961  ...  0.207454  2.138608  0.123306\n",
              "194  phon_R01_S50_6      214.289       260.277  ...  0.190667  2.555477  0.148569\n",
              "\n",
              "[195 rows x 24 columns]>"
            ]
          },
          "metadata": {
            "tags": []
          },
          "execution_count": 3
        }
      ]
    },
    {
      "cell_type": "code",
      "metadata": {
        "id": "fSlG-1ajTgI_",
        "colab_type": "code",
        "colab": {
          "base_uri": "https://localhost:8080/",
          "height": 544
        },
        "outputId": "7352b752-113c-4722-81c2-b0da5ee8e84d"
      },
      "source": [
        "data.info()"
      ],
      "execution_count": null,
      "outputs": [
        {
          "output_type": "stream",
          "text": [
            "<class 'pandas.core.frame.DataFrame'>\n",
            "RangeIndex: 195 entries, 0 to 194\n",
            "Data columns (total 24 columns):\n",
            " #   Column            Non-Null Count  Dtype  \n",
            "---  ------            --------------  -----  \n",
            " 0   name              195 non-null    object \n",
            " 1   MDVP:Fo(Hz)       195 non-null    float64\n",
            " 2   MDVP:Fhi(Hz)      195 non-null    float64\n",
            " 3   MDVP:Flo(Hz)      195 non-null    float64\n",
            " 4   MDVP:Jitter(%)    195 non-null    float64\n",
            " 5   MDVP:Jitter(Abs)  195 non-null    float64\n",
            " 6   MDVP:RAP          195 non-null    float64\n",
            " 7   MDVP:PPQ          195 non-null    float64\n",
            " 8   Jitter:DDP        195 non-null    float64\n",
            " 9   MDVP:Shimmer      195 non-null    float64\n",
            " 10  MDVP:Shimmer(dB)  195 non-null    float64\n",
            " 11  Shimmer:APQ3      195 non-null    float64\n",
            " 12  Shimmer:APQ5      195 non-null    float64\n",
            " 13  MDVP:APQ          195 non-null    float64\n",
            " 14  Shimmer:DDA       195 non-null    float64\n",
            " 15  NHR               195 non-null    float64\n",
            " 16  HNR               195 non-null    float64\n",
            " 17  status            195 non-null    int64  \n",
            " 18  RPDE              195 non-null    float64\n",
            " 19  DFA               195 non-null    float64\n",
            " 20  spread1           195 non-null    float64\n",
            " 21  spread2           195 non-null    float64\n",
            " 22  D2                195 non-null    float64\n",
            " 23  PPE               195 non-null    float64\n",
            "dtypes: float64(22), int64(1), object(1)\n",
            "memory usage: 36.7+ KB\n"
          ],
          "name": "stdout"
        }
      ]
    },
    {
      "cell_type": "code",
      "metadata": {
        "id": "N7prXN6U6keQ",
        "colab_type": "code",
        "colab": {
          "base_uri": "https://localhost:8080/",
          "height": 224
        },
        "outputId": "85e434c7-4353-46d1-a97d-dd4f01881f96"
      },
      "source": [
        "#converting the data into dataframe using pandas\n",
        "df = pd.DataFrame(data)\n",
        "df.head()\n"
      ],
      "execution_count": null,
      "outputs": [
        {
          "output_type": "execute_result",
          "data": {
            "text/html": [
              "<div>\n",
              "<style scoped>\n",
              "    .dataframe tbody tr th:only-of-type {\n",
              "        vertical-align: middle;\n",
              "    }\n",
              "\n",
              "    .dataframe tbody tr th {\n",
              "        vertical-align: top;\n",
              "    }\n",
              "\n",
              "    .dataframe thead th {\n",
              "        text-align: right;\n",
              "    }\n",
              "</style>\n",
              "<table border=\"1\" class=\"dataframe\">\n",
              "  <thead>\n",
              "    <tr style=\"text-align: right;\">\n",
              "      <th></th>\n",
              "      <th>name</th>\n",
              "      <th>MDVP:Fo(Hz)</th>\n",
              "      <th>MDVP:Fhi(Hz)</th>\n",
              "      <th>MDVP:Flo(Hz)</th>\n",
              "      <th>MDVP:Jitter(%)</th>\n",
              "      <th>MDVP:Jitter(Abs)</th>\n",
              "      <th>MDVP:RAP</th>\n",
              "      <th>MDVP:PPQ</th>\n",
              "      <th>Jitter:DDP</th>\n",
              "      <th>MDVP:Shimmer</th>\n",
              "      <th>MDVP:Shimmer(dB)</th>\n",
              "      <th>Shimmer:APQ3</th>\n",
              "      <th>Shimmer:APQ5</th>\n",
              "      <th>MDVP:APQ</th>\n",
              "      <th>Shimmer:DDA</th>\n",
              "      <th>NHR</th>\n",
              "      <th>HNR</th>\n",
              "      <th>status</th>\n",
              "      <th>RPDE</th>\n",
              "      <th>DFA</th>\n",
              "      <th>spread1</th>\n",
              "      <th>spread2</th>\n",
              "      <th>D2</th>\n",
              "      <th>PPE</th>\n",
              "    </tr>\n",
              "  </thead>\n",
              "  <tbody>\n",
              "    <tr>\n",
              "      <th>0</th>\n",
              "      <td>phon_R01_S01_1</td>\n",
              "      <td>119.992</td>\n",
              "      <td>157.302</td>\n",
              "      <td>74.997</td>\n",
              "      <td>0.00784</td>\n",
              "      <td>0.00007</td>\n",
              "      <td>0.00370</td>\n",
              "      <td>0.00554</td>\n",
              "      <td>0.01109</td>\n",
              "      <td>0.04374</td>\n",
              "      <td>0.426</td>\n",
              "      <td>0.02182</td>\n",
              "      <td>0.03130</td>\n",
              "      <td>0.02971</td>\n",
              "      <td>0.06545</td>\n",
              "      <td>0.02211</td>\n",
              "      <td>21.033</td>\n",
              "      <td>1</td>\n",
              "      <td>0.414783</td>\n",
              "      <td>0.815285</td>\n",
              "      <td>-4.813031</td>\n",
              "      <td>0.266482</td>\n",
              "      <td>2.301442</td>\n",
              "      <td>0.284654</td>\n",
              "    </tr>\n",
              "    <tr>\n",
              "      <th>1</th>\n",
              "      <td>phon_R01_S01_2</td>\n",
              "      <td>122.400</td>\n",
              "      <td>148.650</td>\n",
              "      <td>113.819</td>\n",
              "      <td>0.00968</td>\n",
              "      <td>0.00008</td>\n",
              "      <td>0.00465</td>\n",
              "      <td>0.00696</td>\n",
              "      <td>0.01394</td>\n",
              "      <td>0.06134</td>\n",
              "      <td>0.626</td>\n",
              "      <td>0.03134</td>\n",
              "      <td>0.04518</td>\n",
              "      <td>0.04368</td>\n",
              "      <td>0.09403</td>\n",
              "      <td>0.01929</td>\n",
              "      <td>19.085</td>\n",
              "      <td>1</td>\n",
              "      <td>0.458359</td>\n",
              "      <td>0.819521</td>\n",
              "      <td>-4.075192</td>\n",
              "      <td>0.335590</td>\n",
              "      <td>2.486855</td>\n",
              "      <td>0.368674</td>\n",
              "    </tr>\n",
              "    <tr>\n",
              "      <th>2</th>\n",
              "      <td>phon_R01_S01_3</td>\n",
              "      <td>116.682</td>\n",
              "      <td>131.111</td>\n",
              "      <td>111.555</td>\n",
              "      <td>0.01050</td>\n",
              "      <td>0.00009</td>\n",
              "      <td>0.00544</td>\n",
              "      <td>0.00781</td>\n",
              "      <td>0.01633</td>\n",
              "      <td>0.05233</td>\n",
              "      <td>0.482</td>\n",
              "      <td>0.02757</td>\n",
              "      <td>0.03858</td>\n",
              "      <td>0.03590</td>\n",
              "      <td>0.08270</td>\n",
              "      <td>0.01309</td>\n",
              "      <td>20.651</td>\n",
              "      <td>1</td>\n",
              "      <td>0.429895</td>\n",
              "      <td>0.825288</td>\n",
              "      <td>-4.443179</td>\n",
              "      <td>0.311173</td>\n",
              "      <td>2.342259</td>\n",
              "      <td>0.332634</td>\n",
              "    </tr>\n",
              "    <tr>\n",
              "      <th>3</th>\n",
              "      <td>phon_R01_S01_4</td>\n",
              "      <td>116.676</td>\n",
              "      <td>137.871</td>\n",
              "      <td>111.366</td>\n",
              "      <td>0.00997</td>\n",
              "      <td>0.00009</td>\n",
              "      <td>0.00502</td>\n",
              "      <td>0.00698</td>\n",
              "      <td>0.01505</td>\n",
              "      <td>0.05492</td>\n",
              "      <td>0.517</td>\n",
              "      <td>0.02924</td>\n",
              "      <td>0.04005</td>\n",
              "      <td>0.03772</td>\n",
              "      <td>0.08771</td>\n",
              "      <td>0.01353</td>\n",
              "      <td>20.644</td>\n",
              "      <td>1</td>\n",
              "      <td>0.434969</td>\n",
              "      <td>0.819235</td>\n",
              "      <td>-4.117501</td>\n",
              "      <td>0.334147</td>\n",
              "      <td>2.405554</td>\n",
              "      <td>0.368975</td>\n",
              "    </tr>\n",
              "    <tr>\n",
              "      <th>4</th>\n",
              "      <td>phon_R01_S01_5</td>\n",
              "      <td>116.014</td>\n",
              "      <td>141.781</td>\n",
              "      <td>110.655</td>\n",
              "      <td>0.01284</td>\n",
              "      <td>0.00011</td>\n",
              "      <td>0.00655</td>\n",
              "      <td>0.00908</td>\n",
              "      <td>0.01966</td>\n",
              "      <td>0.06425</td>\n",
              "      <td>0.584</td>\n",
              "      <td>0.03490</td>\n",
              "      <td>0.04825</td>\n",
              "      <td>0.04465</td>\n",
              "      <td>0.10470</td>\n",
              "      <td>0.01767</td>\n",
              "      <td>19.649</td>\n",
              "      <td>1</td>\n",
              "      <td>0.417356</td>\n",
              "      <td>0.823484</td>\n",
              "      <td>-3.747787</td>\n",
              "      <td>0.234513</td>\n",
              "      <td>2.332180</td>\n",
              "      <td>0.410335</td>\n",
              "    </tr>\n",
              "  </tbody>\n",
              "</table>\n",
              "</div>"
            ],
            "text/plain": [
              "             name  MDVP:Fo(Hz)  MDVP:Fhi(Hz)  ...   spread2        D2       PPE\n",
              "0  phon_R01_S01_1      119.992       157.302  ...  0.266482  2.301442  0.284654\n",
              "1  phon_R01_S01_2      122.400       148.650  ...  0.335590  2.486855  0.368674\n",
              "2  phon_R01_S01_3      116.682       131.111  ...  0.311173  2.342259  0.332634\n",
              "3  phon_R01_S01_4      116.676       137.871  ...  0.334147  2.405554  0.368975\n",
              "4  phon_R01_S01_5      116.014       141.781  ...  0.234513  2.332180  0.410335\n",
              "\n",
              "[5 rows x 24 columns]"
            ]
          },
          "metadata": {
            "tags": []
          },
          "execution_count": 5
        }
      ]
    },
    {
      "cell_type": "markdown",
      "metadata": {
        "id": "37LC9FLVRcHx",
        "colab_type": "text"
      },
      "source": [
        "# **Getting the features and labels of the dataset**"
      ]
    },
    {
      "cell_type": "code",
      "metadata": {
        "id": "9zHqvhbAK0iC",
        "colab_type": "code",
        "colab": {}
      },
      "source": [
        "x1 = df.drop(['status'],axis=1)\n",
        "y1 = df[[\"status\"]]"
      ],
      "execution_count": null,
      "outputs": []
    },
    {
      "cell_type": "code",
      "metadata": {
        "id": "0aTRPc6iLAxi",
        "colab_type": "code",
        "colab": {
          "base_uri": "https://localhost:8080/",
          "height": 439
        },
        "outputId": "3b13d6c7-b86c-44ee-bb5a-5db39eb56ce1"
      },
      "source": [
        "x1"
      ],
      "execution_count": null,
      "outputs": [
        {
          "output_type": "execute_result",
          "data": {
            "text/html": [
              "<div>\n",
              "<style scoped>\n",
              "    .dataframe tbody tr th:only-of-type {\n",
              "        vertical-align: middle;\n",
              "    }\n",
              "\n",
              "    .dataframe tbody tr th {\n",
              "        vertical-align: top;\n",
              "    }\n",
              "\n",
              "    .dataframe thead th {\n",
              "        text-align: right;\n",
              "    }\n",
              "</style>\n",
              "<table border=\"1\" class=\"dataframe\">\n",
              "  <thead>\n",
              "    <tr style=\"text-align: right;\">\n",
              "      <th></th>\n",
              "      <th>name</th>\n",
              "      <th>MDVP:Fo(Hz)</th>\n",
              "      <th>MDVP:Fhi(Hz)</th>\n",
              "      <th>MDVP:Flo(Hz)</th>\n",
              "      <th>MDVP:Jitter(%)</th>\n",
              "      <th>MDVP:Jitter(Abs)</th>\n",
              "      <th>MDVP:RAP</th>\n",
              "      <th>MDVP:PPQ</th>\n",
              "      <th>Jitter:DDP</th>\n",
              "      <th>MDVP:Shimmer</th>\n",
              "      <th>MDVP:Shimmer(dB)</th>\n",
              "      <th>Shimmer:APQ3</th>\n",
              "      <th>Shimmer:APQ5</th>\n",
              "      <th>MDVP:APQ</th>\n",
              "      <th>Shimmer:DDA</th>\n",
              "      <th>NHR</th>\n",
              "      <th>HNR</th>\n",
              "      <th>RPDE</th>\n",
              "      <th>DFA</th>\n",
              "      <th>spread1</th>\n",
              "      <th>spread2</th>\n",
              "      <th>D2</th>\n",
              "      <th>PPE</th>\n",
              "    </tr>\n",
              "  </thead>\n",
              "  <tbody>\n",
              "    <tr>\n",
              "      <th>0</th>\n",
              "      <td>phon_R01_S01_1</td>\n",
              "      <td>119.992</td>\n",
              "      <td>157.302</td>\n",
              "      <td>74.997</td>\n",
              "      <td>0.00784</td>\n",
              "      <td>0.00007</td>\n",
              "      <td>0.00370</td>\n",
              "      <td>0.00554</td>\n",
              "      <td>0.01109</td>\n",
              "      <td>0.04374</td>\n",
              "      <td>0.426</td>\n",
              "      <td>0.02182</td>\n",
              "      <td>0.03130</td>\n",
              "      <td>0.02971</td>\n",
              "      <td>0.06545</td>\n",
              "      <td>0.02211</td>\n",
              "      <td>21.033</td>\n",
              "      <td>0.414783</td>\n",
              "      <td>0.815285</td>\n",
              "      <td>-4.813031</td>\n",
              "      <td>0.266482</td>\n",
              "      <td>2.301442</td>\n",
              "      <td>0.284654</td>\n",
              "    </tr>\n",
              "    <tr>\n",
              "      <th>1</th>\n",
              "      <td>phon_R01_S01_2</td>\n",
              "      <td>122.400</td>\n",
              "      <td>148.650</td>\n",
              "      <td>113.819</td>\n",
              "      <td>0.00968</td>\n",
              "      <td>0.00008</td>\n",
              "      <td>0.00465</td>\n",
              "      <td>0.00696</td>\n",
              "      <td>0.01394</td>\n",
              "      <td>0.06134</td>\n",
              "      <td>0.626</td>\n",
              "      <td>0.03134</td>\n",
              "      <td>0.04518</td>\n",
              "      <td>0.04368</td>\n",
              "      <td>0.09403</td>\n",
              "      <td>0.01929</td>\n",
              "      <td>19.085</td>\n",
              "      <td>0.458359</td>\n",
              "      <td>0.819521</td>\n",
              "      <td>-4.075192</td>\n",
              "      <td>0.335590</td>\n",
              "      <td>2.486855</td>\n",
              "      <td>0.368674</td>\n",
              "    </tr>\n",
              "    <tr>\n",
              "      <th>2</th>\n",
              "      <td>phon_R01_S01_3</td>\n",
              "      <td>116.682</td>\n",
              "      <td>131.111</td>\n",
              "      <td>111.555</td>\n",
              "      <td>0.01050</td>\n",
              "      <td>0.00009</td>\n",
              "      <td>0.00544</td>\n",
              "      <td>0.00781</td>\n",
              "      <td>0.01633</td>\n",
              "      <td>0.05233</td>\n",
              "      <td>0.482</td>\n",
              "      <td>0.02757</td>\n",
              "      <td>0.03858</td>\n",
              "      <td>0.03590</td>\n",
              "      <td>0.08270</td>\n",
              "      <td>0.01309</td>\n",
              "      <td>20.651</td>\n",
              "      <td>0.429895</td>\n",
              "      <td>0.825288</td>\n",
              "      <td>-4.443179</td>\n",
              "      <td>0.311173</td>\n",
              "      <td>2.342259</td>\n",
              "      <td>0.332634</td>\n",
              "    </tr>\n",
              "    <tr>\n",
              "      <th>3</th>\n",
              "      <td>phon_R01_S01_4</td>\n",
              "      <td>116.676</td>\n",
              "      <td>137.871</td>\n",
              "      <td>111.366</td>\n",
              "      <td>0.00997</td>\n",
              "      <td>0.00009</td>\n",
              "      <td>0.00502</td>\n",
              "      <td>0.00698</td>\n",
              "      <td>0.01505</td>\n",
              "      <td>0.05492</td>\n",
              "      <td>0.517</td>\n",
              "      <td>0.02924</td>\n",
              "      <td>0.04005</td>\n",
              "      <td>0.03772</td>\n",
              "      <td>0.08771</td>\n",
              "      <td>0.01353</td>\n",
              "      <td>20.644</td>\n",
              "      <td>0.434969</td>\n",
              "      <td>0.819235</td>\n",
              "      <td>-4.117501</td>\n",
              "      <td>0.334147</td>\n",
              "      <td>2.405554</td>\n",
              "      <td>0.368975</td>\n",
              "    </tr>\n",
              "    <tr>\n",
              "      <th>4</th>\n",
              "      <td>phon_R01_S01_5</td>\n",
              "      <td>116.014</td>\n",
              "      <td>141.781</td>\n",
              "      <td>110.655</td>\n",
              "      <td>0.01284</td>\n",
              "      <td>0.00011</td>\n",
              "      <td>0.00655</td>\n",
              "      <td>0.00908</td>\n",
              "      <td>0.01966</td>\n",
              "      <td>0.06425</td>\n",
              "      <td>0.584</td>\n",
              "      <td>0.03490</td>\n",
              "      <td>0.04825</td>\n",
              "      <td>0.04465</td>\n",
              "      <td>0.10470</td>\n",
              "      <td>0.01767</td>\n",
              "      <td>19.649</td>\n",
              "      <td>0.417356</td>\n",
              "      <td>0.823484</td>\n",
              "      <td>-3.747787</td>\n",
              "      <td>0.234513</td>\n",
              "      <td>2.332180</td>\n",
              "      <td>0.410335</td>\n",
              "    </tr>\n",
              "    <tr>\n",
              "      <th>...</th>\n",
              "      <td>...</td>\n",
              "      <td>...</td>\n",
              "      <td>...</td>\n",
              "      <td>...</td>\n",
              "      <td>...</td>\n",
              "      <td>...</td>\n",
              "      <td>...</td>\n",
              "      <td>...</td>\n",
              "      <td>...</td>\n",
              "      <td>...</td>\n",
              "      <td>...</td>\n",
              "      <td>...</td>\n",
              "      <td>...</td>\n",
              "      <td>...</td>\n",
              "      <td>...</td>\n",
              "      <td>...</td>\n",
              "      <td>...</td>\n",
              "      <td>...</td>\n",
              "      <td>...</td>\n",
              "      <td>...</td>\n",
              "      <td>...</td>\n",
              "      <td>...</td>\n",
              "      <td>...</td>\n",
              "    </tr>\n",
              "    <tr>\n",
              "      <th>190</th>\n",
              "      <td>phon_R01_S50_2</td>\n",
              "      <td>174.188</td>\n",
              "      <td>230.978</td>\n",
              "      <td>94.261</td>\n",
              "      <td>0.00459</td>\n",
              "      <td>0.00003</td>\n",
              "      <td>0.00263</td>\n",
              "      <td>0.00259</td>\n",
              "      <td>0.00790</td>\n",
              "      <td>0.04087</td>\n",
              "      <td>0.405</td>\n",
              "      <td>0.02336</td>\n",
              "      <td>0.02498</td>\n",
              "      <td>0.02745</td>\n",
              "      <td>0.07008</td>\n",
              "      <td>0.02764</td>\n",
              "      <td>19.517</td>\n",
              "      <td>0.448439</td>\n",
              "      <td>0.657899</td>\n",
              "      <td>-6.538586</td>\n",
              "      <td>0.121952</td>\n",
              "      <td>2.657476</td>\n",
              "      <td>0.133050</td>\n",
              "    </tr>\n",
              "    <tr>\n",
              "      <th>191</th>\n",
              "      <td>phon_R01_S50_3</td>\n",
              "      <td>209.516</td>\n",
              "      <td>253.017</td>\n",
              "      <td>89.488</td>\n",
              "      <td>0.00564</td>\n",
              "      <td>0.00003</td>\n",
              "      <td>0.00331</td>\n",
              "      <td>0.00292</td>\n",
              "      <td>0.00994</td>\n",
              "      <td>0.02751</td>\n",
              "      <td>0.263</td>\n",
              "      <td>0.01604</td>\n",
              "      <td>0.01657</td>\n",
              "      <td>0.01879</td>\n",
              "      <td>0.04812</td>\n",
              "      <td>0.01810</td>\n",
              "      <td>19.147</td>\n",
              "      <td>0.431674</td>\n",
              "      <td>0.683244</td>\n",
              "      <td>-6.195325</td>\n",
              "      <td>0.129303</td>\n",
              "      <td>2.784312</td>\n",
              "      <td>0.168895</td>\n",
              "    </tr>\n",
              "    <tr>\n",
              "      <th>192</th>\n",
              "      <td>phon_R01_S50_4</td>\n",
              "      <td>174.688</td>\n",
              "      <td>240.005</td>\n",
              "      <td>74.287</td>\n",
              "      <td>0.01360</td>\n",
              "      <td>0.00008</td>\n",
              "      <td>0.00624</td>\n",
              "      <td>0.00564</td>\n",
              "      <td>0.01873</td>\n",
              "      <td>0.02308</td>\n",
              "      <td>0.256</td>\n",
              "      <td>0.01268</td>\n",
              "      <td>0.01365</td>\n",
              "      <td>0.01667</td>\n",
              "      <td>0.03804</td>\n",
              "      <td>0.10715</td>\n",
              "      <td>17.883</td>\n",
              "      <td>0.407567</td>\n",
              "      <td>0.655683</td>\n",
              "      <td>-6.787197</td>\n",
              "      <td>0.158453</td>\n",
              "      <td>2.679772</td>\n",
              "      <td>0.131728</td>\n",
              "    </tr>\n",
              "    <tr>\n",
              "      <th>193</th>\n",
              "      <td>phon_R01_S50_5</td>\n",
              "      <td>198.764</td>\n",
              "      <td>396.961</td>\n",
              "      <td>74.904</td>\n",
              "      <td>0.00740</td>\n",
              "      <td>0.00004</td>\n",
              "      <td>0.00370</td>\n",
              "      <td>0.00390</td>\n",
              "      <td>0.01109</td>\n",
              "      <td>0.02296</td>\n",
              "      <td>0.241</td>\n",
              "      <td>0.01265</td>\n",
              "      <td>0.01321</td>\n",
              "      <td>0.01588</td>\n",
              "      <td>0.03794</td>\n",
              "      <td>0.07223</td>\n",
              "      <td>19.020</td>\n",
              "      <td>0.451221</td>\n",
              "      <td>0.643956</td>\n",
              "      <td>-6.744577</td>\n",
              "      <td>0.207454</td>\n",
              "      <td>2.138608</td>\n",
              "      <td>0.123306</td>\n",
              "    </tr>\n",
              "    <tr>\n",
              "      <th>194</th>\n",
              "      <td>phon_R01_S50_6</td>\n",
              "      <td>214.289</td>\n",
              "      <td>260.277</td>\n",
              "      <td>77.973</td>\n",
              "      <td>0.00567</td>\n",
              "      <td>0.00003</td>\n",
              "      <td>0.00295</td>\n",
              "      <td>0.00317</td>\n",
              "      <td>0.00885</td>\n",
              "      <td>0.01884</td>\n",
              "      <td>0.190</td>\n",
              "      <td>0.01026</td>\n",
              "      <td>0.01161</td>\n",
              "      <td>0.01373</td>\n",
              "      <td>0.03078</td>\n",
              "      <td>0.04398</td>\n",
              "      <td>21.209</td>\n",
              "      <td>0.462803</td>\n",
              "      <td>0.664357</td>\n",
              "      <td>-5.724056</td>\n",
              "      <td>0.190667</td>\n",
              "      <td>2.555477</td>\n",
              "      <td>0.148569</td>\n",
              "    </tr>\n",
              "  </tbody>\n",
              "</table>\n",
              "<p>195 rows × 23 columns</p>\n",
              "</div>"
            ],
            "text/plain": [
              "               name  MDVP:Fo(Hz)  MDVP:Fhi(Hz)  ...   spread2        D2       PPE\n",
              "0    phon_R01_S01_1      119.992       157.302  ...  0.266482  2.301442  0.284654\n",
              "1    phon_R01_S01_2      122.400       148.650  ...  0.335590  2.486855  0.368674\n",
              "2    phon_R01_S01_3      116.682       131.111  ...  0.311173  2.342259  0.332634\n",
              "3    phon_R01_S01_4      116.676       137.871  ...  0.334147  2.405554  0.368975\n",
              "4    phon_R01_S01_5      116.014       141.781  ...  0.234513  2.332180  0.410335\n",
              "..              ...          ...           ...  ...       ...       ...       ...\n",
              "190  phon_R01_S50_2      174.188       230.978  ...  0.121952  2.657476  0.133050\n",
              "191  phon_R01_S50_3      209.516       253.017  ...  0.129303  2.784312  0.168895\n",
              "192  phon_R01_S50_4      174.688       240.005  ...  0.158453  2.679772  0.131728\n",
              "193  phon_R01_S50_5      198.764       396.961  ...  0.207454  2.138608  0.123306\n",
              "194  phon_R01_S50_6      214.289       260.277  ...  0.190667  2.555477  0.148569\n",
              "\n",
              "[195 rows x 23 columns]"
            ]
          },
          "metadata": {
            "tags": []
          },
          "execution_count": 7
        }
      ]
    },
    {
      "cell_type": "code",
      "metadata": {
        "id": "iuUa81pKLEaC",
        "colab_type": "code",
        "colab": {
          "base_uri": "https://localhost:8080/",
          "height": 419
        },
        "outputId": "62542a61-1615-4a77-a969-881ffcc47e77"
      },
      "source": [
        "y1"
      ],
      "execution_count": null,
      "outputs": [
        {
          "output_type": "execute_result",
          "data": {
            "text/html": [
              "<div>\n",
              "<style scoped>\n",
              "    .dataframe tbody tr th:only-of-type {\n",
              "        vertical-align: middle;\n",
              "    }\n",
              "\n",
              "    .dataframe tbody tr th {\n",
              "        vertical-align: top;\n",
              "    }\n",
              "\n",
              "    .dataframe thead th {\n",
              "        text-align: right;\n",
              "    }\n",
              "</style>\n",
              "<table border=\"1\" class=\"dataframe\">\n",
              "  <thead>\n",
              "    <tr style=\"text-align: right;\">\n",
              "      <th></th>\n",
              "      <th>status</th>\n",
              "    </tr>\n",
              "  </thead>\n",
              "  <tbody>\n",
              "    <tr>\n",
              "      <th>0</th>\n",
              "      <td>1</td>\n",
              "    </tr>\n",
              "    <tr>\n",
              "      <th>1</th>\n",
              "      <td>1</td>\n",
              "    </tr>\n",
              "    <tr>\n",
              "      <th>2</th>\n",
              "      <td>1</td>\n",
              "    </tr>\n",
              "    <tr>\n",
              "      <th>3</th>\n",
              "      <td>1</td>\n",
              "    </tr>\n",
              "    <tr>\n",
              "      <th>4</th>\n",
              "      <td>1</td>\n",
              "    </tr>\n",
              "    <tr>\n",
              "      <th>...</th>\n",
              "      <td>...</td>\n",
              "    </tr>\n",
              "    <tr>\n",
              "      <th>190</th>\n",
              "      <td>0</td>\n",
              "    </tr>\n",
              "    <tr>\n",
              "      <th>191</th>\n",
              "      <td>0</td>\n",
              "    </tr>\n",
              "    <tr>\n",
              "      <th>192</th>\n",
              "      <td>0</td>\n",
              "    </tr>\n",
              "    <tr>\n",
              "      <th>193</th>\n",
              "      <td>0</td>\n",
              "    </tr>\n",
              "    <tr>\n",
              "      <th>194</th>\n",
              "      <td>0</td>\n",
              "    </tr>\n",
              "  </tbody>\n",
              "</table>\n",
              "<p>195 rows × 1 columns</p>\n",
              "</div>"
            ],
            "text/plain": [
              "     status\n",
              "0         1\n",
              "1         1\n",
              "2         1\n",
              "3         1\n",
              "4         1\n",
              "..      ...\n",
              "190       0\n",
              "191       0\n",
              "192       0\n",
              "193       0\n",
              "194       0\n",
              "\n",
              "[195 rows x 1 columns]"
            ]
          },
          "metadata": {
            "tags": []
          },
          "execution_count": 8
        }
      ]
    },
    {
      "cell_type": "code",
      "metadata": {
        "id": "CMSu0J5256cP",
        "colab_type": "code",
        "colab": {}
      },
      "source": [
        "x = df.drop(['status'],axis=1).values[:,1:]\n",
        "y = df[[\"status\"]].values"
      ],
      "execution_count": null,
      "outputs": []
    },
    {
      "cell_type": "code",
      "metadata": {
        "id": "fxDDtDXT7Jcy",
        "colab_type": "code",
        "colab": {
          "base_uri": "https://localhost:8080/",
          "height": 204
        },
        "outputId": "410d0473-ee83-4635-8c94-a44349a6d9ff"
      },
      "source": [
        "x"
      ],
      "execution_count": null,
      "outputs": [
        {
          "output_type": "execute_result",
          "data": {
            "text/plain": [
              "array([[119.992, 157.302, 74.997, ..., 0.266482, 2.3014419999999998,\n",
              "        0.284654],\n",
              "       [122.4, 148.65, 113.819, ..., 0.33559, 2.486855, 0.368674],\n",
              "       [116.682, 131.111, 111.555, ..., 0.311173, 2.342259,\n",
              "        0.33263400000000004],\n",
              "       ...,\n",
              "       [174.688, 240.005, 74.287, ..., 0.158453, 2.6797720000000003,\n",
              "        0.13172799999999998],\n",
              "       [198.764, 396.961, 74.904, ..., 0.207454, 2.138608, 0.123306],\n",
              "       [214.289, 260.277, 77.973, ..., 0.190667, 2.555477, 0.148569]],\n",
              "      dtype=object)"
            ]
          },
          "metadata": {
            "tags": []
          },
          "execution_count": 10
        }
      ]
    },
    {
      "cell_type": "code",
      "metadata": {
        "id": "k1SVjFS8S_Gy",
        "colab_type": "code",
        "colab": {
          "base_uri": "https://localhost:8080/",
          "height": 102
        },
        "outputId": "838f5554-9bbf-46e0-8275-180fc8ac7f6a"
      },
      "source": [
        "x[0]"
      ],
      "execution_count": null,
      "outputs": [
        {
          "output_type": "execute_result",
          "data": {
            "text/plain": [
              "array([119.992, 157.302, 74.997, 0.00784, 7e-05, 0.0037, 0.00554,\n",
              "       0.011090000000000001, 0.04374, 0.426, 0.02182, 0.0313,\n",
              "       0.029710000000000004, 0.06545, 0.022109999999999998, 21.033,\n",
              "       0.414783, 0.815285, -4.813031, 0.266482, 2.3014419999999998,\n",
              "       0.284654], dtype=object)"
            ]
          },
          "metadata": {
            "tags": []
          },
          "execution_count": 11
        }
      ]
    },
    {
      "cell_type": "code",
      "metadata": {
        "id": "ScjFWUu37NYW",
        "colab_type": "code",
        "colab": {
          "base_uri": "https://localhost:8080/",
          "height": 1000
        },
        "outputId": "ee523cea-8ab3-4ca6-b487-eec7fd3387da"
      },
      "source": [
        "y"
      ],
      "execution_count": null,
      "outputs": [
        {
          "output_type": "execute_result",
          "data": {
            "text/plain": [
              "array([[1],\n",
              "       [1],\n",
              "       [1],\n",
              "       [1],\n",
              "       [1],\n",
              "       [1],\n",
              "       [1],\n",
              "       [1],\n",
              "       [1],\n",
              "       [1],\n",
              "       [1],\n",
              "       [1],\n",
              "       [1],\n",
              "       [1],\n",
              "       [1],\n",
              "       [1],\n",
              "       [1],\n",
              "       [1],\n",
              "       [1],\n",
              "       [1],\n",
              "       [1],\n",
              "       [1],\n",
              "       [1],\n",
              "       [1],\n",
              "       [1],\n",
              "       [1],\n",
              "       [1],\n",
              "       [1],\n",
              "       [1],\n",
              "       [1],\n",
              "       [0],\n",
              "       [0],\n",
              "       [0],\n",
              "       [0],\n",
              "       [0],\n",
              "       [0],\n",
              "       [1],\n",
              "       [1],\n",
              "       [1],\n",
              "       [1],\n",
              "       [1],\n",
              "       [1],\n",
              "       [0],\n",
              "       [0],\n",
              "       [0],\n",
              "       [0],\n",
              "       [0],\n",
              "       [0],\n",
              "       [0],\n",
              "       [0],\n",
              "       [0],\n",
              "       [0],\n",
              "       [0],\n",
              "       [0],\n",
              "       [1],\n",
              "       [1],\n",
              "       [1],\n",
              "       [1],\n",
              "       [1],\n",
              "       [1],\n",
              "       [0],\n",
              "       [0],\n",
              "       [0],\n",
              "       [0],\n",
              "       [0],\n",
              "       [0],\n",
              "       [1],\n",
              "       [1],\n",
              "       [1],\n",
              "       [1],\n",
              "       [1],\n",
              "       [1],\n",
              "       [1],\n",
              "       [1],\n",
              "       [1],\n",
              "       [1],\n",
              "       [1],\n",
              "       [1],\n",
              "       [1],\n",
              "       [1],\n",
              "       [1],\n",
              "       [1],\n",
              "       [1],\n",
              "       [1],\n",
              "       [1],\n",
              "       [1],\n",
              "       [1],\n",
              "       [1],\n",
              "       [1],\n",
              "       [1],\n",
              "       [1],\n",
              "       [1],\n",
              "       [1],\n",
              "       [1],\n",
              "       [1],\n",
              "       [1],\n",
              "       [1],\n",
              "       [1],\n",
              "       [1],\n",
              "       [1],\n",
              "       [1],\n",
              "       [1],\n",
              "       [1],\n",
              "       [1],\n",
              "       [1],\n",
              "       [1],\n",
              "       [1],\n",
              "       [1],\n",
              "       [1],\n",
              "       [1],\n",
              "       [1],\n",
              "       [1],\n",
              "       [1],\n",
              "       [1],\n",
              "       [1],\n",
              "       [1],\n",
              "       [1],\n",
              "       [1],\n",
              "       [1],\n",
              "       [1],\n",
              "       [1],\n",
              "       [1],\n",
              "       [1],\n",
              "       [1],\n",
              "       [1],\n",
              "       [1],\n",
              "       [1],\n",
              "       [1],\n",
              "       [1],\n",
              "       [1],\n",
              "       [1],\n",
              "       [1],\n",
              "       [1],\n",
              "       [1],\n",
              "       [1],\n",
              "       [1],\n",
              "       [1],\n",
              "       [1],\n",
              "       [1],\n",
              "       [1],\n",
              "       [1],\n",
              "       [1],\n",
              "       [1],\n",
              "       [1],\n",
              "       [1],\n",
              "       [1],\n",
              "       [1],\n",
              "       [1],\n",
              "       [1],\n",
              "       [1],\n",
              "       [1],\n",
              "       [1],\n",
              "       [1],\n",
              "       [1],\n",
              "       [1],\n",
              "       [1],\n",
              "       [1],\n",
              "       [1],\n",
              "       [1],\n",
              "       [1],\n",
              "       [1],\n",
              "       [1],\n",
              "       [1],\n",
              "       [1],\n",
              "       [1],\n",
              "       [0],\n",
              "       [0],\n",
              "       [0],\n",
              "       [0],\n",
              "       [0],\n",
              "       [0],\n",
              "       [0],\n",
              "       [0],\n",
              "       [0],\n",
              "       [0],\n",
              "       [0],\n",
              "       [0],\n",
              "       [1],\n",
              "       [1],\n",
              "       [1],\n",
              "       [1],\n",
              "       [1],\n",
              "       [1],\n",
              "       [0],\n",
              "       [0],\n",
              "       [0],\n",
              "       [0],\n",
              "       [0],\n",
              "       [0],\n",
              "       [0],\n",
              "       [0],\n",
              "       [0],\n",
              "       [0],\n",
              "       [0],\n",
              "       [0]])"
            ]
          },
          "metadata": {
            "tags": []
          },
          "execution_count": 12
        }
      ]
    },
    {
      "cell_type": "code",
      "metadata": {
        "id": "Th5_Rtom8TBu",
        "colab_type": "code",
        "colab": {
          "base_uri": "https://localhost:8080/",
          "height": 68
        },
        "outputId": "a272d128-0ae3-4fca-b41b-940b3e3399f2"
      },
      "source": [
        "y1['status'].value_counts()"
      ],
      "execution_count": null,
      "outputs": [
        {
          "output_type": "execute_result",
          "data": {
            "text/plain": [
              "1    147\n",
              "0     48\n",
              "Name: status, dtype: int64"
            ]
          },
          "metadata": {
            "tags": []
          },
          "execution_count": 13
        }
      ]
    },
    {
      "cell_type": "markdown",
      "metadata": {
        "id": "BlWEAVQzJUUp",
        "colab_type": "text"
      },
      "source": [
        "# **Visualization of data**"
      ]
    },
    {
      "cell_type": "code",
      "metadata": {
        "id": "woFjSxRZO4Ul",
        "colab_type": "code",
        "colab": {
          "base_uri": "https://localhost:8080/",
          "height": 1000
        },
        "outputId": "6310068e-f542-48c9-ffce-068b6fa57e62"
      },
      "source": [
        "#heatmap\n",
        "import matplotlib.pyplot as plt\n",
        "import seaborn as sns\n",
        "relation = data.corr()\n",
        "fig, ax = plt.subplots(figsize=(25,25))\n",
        "sns.heatmap(relation, annot=True, cmap='summer') \n",
        "plt.show()"
      ],
      "execution_count": null,
      "outputs": [
        {
          "output_type": "stream",
          "text": [
            "/usr/local/lib/python3.6/dist-packages/statsmodels/tools/_testing.py:19: FutureWarning: pandas.util.testing is deprecated. Use the functions in the public API at pandas.testing instead.\n",
            "  import pandas.util.testing as tm\n"
          ],
          "name": "stderr"
        },
        {
          "output_type": "display_data",
          "data": {
            "image/png": "[encoded data removed]",
            "text/plain": [
              "<Figure size 1800x1800 with 2 Axes>"
            ]
          },
          "metadata": {
            "tags": [],
            "needs_background": "light"
          }
        }
      ]
    },
    {
      "cell_type": "code",
      "metadata": {
        "id": "x4yrrIpk7Pjp",
        "colab_type": "code",
        "colab": {
          "base_uri": "https://localhost:8080/",
          "height": 254
        },
        "outputId": "1f4ef4b6-18a6-470c-c072-2435462a588f"
      },
      "source": [
        "#pie chart\n",
        "labels = 'Parkison disease', 'Healthy'\n",
        "sizes = [147, 48]\n",
        "colors = ['gold', 'yellowgreen']\n",
        "explode = (0.1, 0)  # explode 1st slice\n",
        "\n",
        "# Plot\n",
        "plt.pie(sizes, explode=explode, labels=labels, colors=colors,\n",
        "autopct='%1.1f%%', shadow=True, startangle=140)\n",
        "\n",
        "plt.axis('equal')\n",
        "plt.show()\n"
      ],
      "execution_count": null,
      "outputs": [
        {
          "output_type": "display_data",
          "data": {
            "image/png": "[encoded data removed]",
            "text/plain": [
              "<Figure size 432x288 with 1 Axes>"
            ]
          },
          "metadata": {
            "tags": []
          }
        }
      ]
    },
    {
      "cell_type": "code",
      "metadata": {
        "id": "8a4PPkofWaua",
        "colab_type": "code",
        "colab": {
          "base_uri": "https://localhost:8080/",
          "height": 279
        },
        "outputId": "ab42e2a5-7504-49f3-d30a-b12b83346c7f"
      },
      "source": [
        "#bar chart\n",
        "import seaborn as sns\n",
        "sns.countplot(df['status'].values)\n",
        "plt.xlabel('status')\n",
        "plt.ylabel('status')\n",
        "plt.show()"
      ],
      "execution_count": null,
      "outputs": [
        {
          "output_type": "display_data",
          "data": {
            "image/png": "[encoded data removed]",
            "text/plain": [
              "<Figure size 432x288 with 1 Axes>"
            ]
          },
          "metadata": {
            "tags": [],
            "needs_background": "light"
          }
        }
      ]
    },
    {
      "cell_type": "code",
      "metadata": {
        "id": "D7n4eVQOZorM",
        "colab_type": "code",
        "colab": {
          "base_uri": "https://localhost:8080/",
          "height": 265
        },
        "outputId": "8c58304b-44cc-4062-d712-8300c8e96515"
      },
      "source": [
        "#scatter chart\n",
        "index_class=[]\n",
        "for i in range(24):\n",
        "    index_class.append(i)\n",
        "plt.scatter(x=index_class,y=df[df['status']==1].HNR[:24],color='b')\n",
        "plt.scatter(x=index_class,y=df[df['status']==0].HNR[:24],color='r')\n",
        "plt.show()\n"
      ],
      "execution_count": null,
      "outputs": [
        {
          "output_type": "display_data",
          "data": {
            "image/png": "[encoded data removed]",
            "text/plain": [
              "<Figure size 432x288 with 1 Axes>"
            ]
          },
          "metadata": {
            "tags": [],
            "needs_background": "light"
          }
        }
      ]
    },
    {
      "cell_type": "markdown",
      "metadata": {
        "id": "1H1202yWu6nb",
        "colab_type": "text"
      },
      "source": [
        "# **Scaling the features (x) between 0 to 1**"
      ]
    },
    {
      "cell_type": "code",
      "metadata": {
        "id": "uGOzYvArJ9by",
        "colab_type": "code",
        "colab": {}
      },
      "source": [
        "#scaling\n",
        "from sklearn.preprocessing import MinMaxScaler\n",
        "scale = MinMaxScaler((0,1))\n",
        "x2 = scale.fit_transform(x)\n",
        "y2 = y"
      ],
      "execution_count": null,
      "outputs": []
    },
    {
      "cell_type": "code",
      "metadata": {
        "id": "_-oa4mzXRq7m",
        "colab_type": "code",
        "colab": {
          "base_uri": "https://localhost:8080/",
          "height": 119
        },
        "outputId": "728f3478-3449-4839-90dc-d4d029a6224c"
      },
      "source": [
        "df.columns\n"
      ],
      "execution_count": null,
      "outputs": [
        {
          "output_type": "execute_result",
          "data": {
            "text/plain": [
              "Index(['name', 'MDVP:Fo(Hz)', 'MDVP:Fhi(Hz)', 'MDVP:Flo(Hz)', 'MDVP:Jitter(%)',\n",
              "       'MDVP:Jitter(Abs)', 'MDVP:RAP', 'MDVP:PPQ', 'Jitter:DDP',\n",
              "       'MDVP:Shimmer', 'MDVP:Shimmer(dB)', 'Shimmer:APQ3', 'Shimmer:APQ5',\n",
              "       'MDVP:APQ', 'Shimmer:DDA', 'NHR', 'HNR', 'status', 'RPDE', 'DFA',\n",
              "       'spread1', 'spread2', 'D2', 'PPE'],\n",
              "      dtype='object')"
            ]
          },
          "metadata": {
            "tags": []
          },
          "execution_count": 19
        }
      ]
    },
    {
      "cell_type": "markdown",
      "metadata": {
        "id": "3mHyCcKULoNR",
        "colab_type": "text"
      },
      "source": [
        "## **Splitting the training and testing data**"
      ]
    },
    {
      "cell_type": "code",
      "metadata": {
        "id": "E3dLyqgyLciW",
        "colab_type": "code",
        "colab": {}
      },
      "source": [
        "from sklearn.model_selection import train_test_split\n",
        "x_train,x_test,y_train,y_test=train_test_split(x, y, test_size=0.2, random_state=7)"
      ],
      "execution_count": null,
      "outputs": []
    },
    {
      "cell_type": "markdown",
      "metadata": {
        "id": "MWf0PBr3L0Lf",
        "colab_type": "text"
      },
      "source": [
        "# **Training the data using XGBoost Classifier**\n",
        "\n",
        "\n"
      ]
    },
    {
      "cell_type": "code",
      "metadata": {
        "id": "O8fKyyazLwFU",
        "colab_type": "code",
        "colab": {
          "base_uri": "https://localhost:8080/",
          "height": 224
        },
        "outputId": "a5a9e495-c1e2-43e0-8046-c3b208f68173"
      },
      "source": [
        "from xgboost import XGBClassifier\n",
        "model=XGBClassifier()\n",
        "model.fit(x_train,y_train)"
      ],
      "execution_count": null,
      "outputs": [
        {
          "output_type": "stream",
          "text": [
            "/usr/local/lib/python3.6/dist-packages/sklearn/preprocessing/_label.py:235: DataConversionWarning: A column-vector y was passed when a 1d array was expected. Please change the shape of y to (n_samples, ), for example using ravel().\n",
            "  y = column_or_1d(y, warn=True)\n",
            "/usr/local/lib/python3.6/dist-packages/sklearn/preprocessing/_label.py:268: DataConversionWarning: A column-vector y was passed when a 1d array was expected. Please change the shape of y to (n_samples, ), for example using ravel().\n",
            "  y = column_or_1d(y, warn=True)\n"
          ],
          "name": "stderr"
        },
        {
          "output_type": "execute_result",
          "data": {
            "text/plain": [
              "XGBClassifier(base_score=0.5, booster='gbtree', colsample_bylevel=1,\n",
              "              colsample_bynode=1, colsample_bytree=1, gamma=0,\n",
              "              learning_rate=0.1, max_delta_step=0, max_depth=3,\n",
              "              min_child_weight=1, missing=None, n_estimators=100, n_jobs=1,\n",
              "              nthread=None, objective='binary:logistic', random_state=0,\n",
              "              reg_alpha=0, reg_lambda=1, scale_pos_weight=1, seed=None,\n",
              "              silent=None, subsample=1, verbosity=1)"
            ]
          },
          "metadata": {
            "tags": []
          },
          "execution_count": 21
        }
      ]
    },
    {
      "cell_type": "code",
      "metadata": {
        "id": "bEoXK1MuMr9B",
        "colab_type": "code",
        "colab": {
          "base_uri": "https://localhost:8080/",
          "height": 1000
        },
        "outputId": "b514459a-8b5b-45bc-9fb7-ce7015517ec8"
      },
      "source": [
        "x_test"
      ],
      "execution_count": null,
      "outputs": [
        {
          "output_type": "execute_result",
          "data": {
            "text/plain": [
              "array([[209.516, 253.017, 89.488, 0.00564, 2.9999999999999997e-05,\n",
              "        0.00331, 0.00292, 0.009940000000000001, 0.027510000000000003,\n",
              "        0.263, 0.016040000000000002, 0.016569999999999998, 0.01879,\n",
              "        0.048119999999999996, 0.0181, 19.147, 0.431674, 0.683244,\n",
              "        -6.195325, 0.129303, 2.784312, 0.16889500000000002],\n",
              "       [128.94, 479.697, 88.251, 0.00581, 5e-05, 0.0024100000000000002,\n",
              "        0.00314, 0.0072299999999999994, 0.02008, 0.221,\n",
              "        0.008490000000000001, 0.011170000000000001, 0.01734,\n",
              "        0.025480000000000003, 0.0235, 24.743, 0.487756, 0.68413,\n",
              "        -6.186128, 0.279933, 2.68624, 0.152428],\n",
              "       [163.656, 200.841, 76.779, 0.00742, 5e-05, 0.0038, 0.0039, 0.0114,\n",
              "        0.01659, 0.164, 0.007379999999999999, 0.00948,\n",
              "        0.014969999999999999, 0.02214, 0.01778, 23.831, 0.397937,\n",
              "        0.732479, -5.557447, 0.22089, 2.692176, 0.21596100000000001],\n",
              "       [170.756, 450.247, 79.032, 0.00555, 2.9999999999999997e-05,\n",
              "        0.00244, 0.0026100000000000003, 0.00731, 0.01725, 0.175, 0.00757,\n",
              "        0.00971, 0.01652, 0.0227, 0.018019999999999998, 25.69, 0.486738,\n",
              "        0.6760229999999999, -4.597834, 0.372114, 2.975889,\n",
              "        0.28278000000000003],\n",
              "       [116.682, 131.111, 111.555, 0.0105, 9e-05, 0.0054399999999999995,\n",
              "        0.007809999999999999, 0.01633, 0.052329999999999995, 0.482,\n",
              "        0.027569999999999997, 0.03858, 0.0359, 0.0827,\n",
              "        0.013090000000000001, 20.651, 0.42989499999999997,\n",
              "        0.8252879999999999, -4.443179, 0.311173, 2.342259,\n",
              "        0.33263400000000004],\n",
              "       [128.451, 150.449, 75.632, 0.01551, 0.00011999999999999999,\n",
              "        0.00905, 0.00909, 0.027160000000000004, 0.0617, 0.584, 0.03223,\n",
              "        0.036719999999999996, 0.051739999999999994, 0.09669, 0.11843,\n",
              "        15.06, 0.639808, 0.6433270000000001, -4.20273, 0.310163,\n",
              "        2.6382790000000003, 0.356881],\n",
              "       [154.003, 160.267, 128.621, 0.00183, 1e-05, 0.0007599999999999999,\n",
              "        0.001, 0.00229, 0.0103, 0.094, 0.00469, 0.0058200000000000005,\n",
              "        0.008709999999999999, 0.01406, 0.00243, 28.409, 0.263654,\n",
              "        0.691483, -7.1115759999999995, 0.14478, 2.065477, 0.093193],\n",
              "       [223.361, 263.872, 87.638, 0.00352, 2e-05, 0.0016899999999999999,\n",
              "        0.0018800000000000002, 0.00506, 0.02536, 0.225, 0.01379,\n",
              "        0.014780000000000001, 0.01909, 0.04137, 0.01493, 20.366,\n",
              "        0.5668489999999999, 0.574282, -5.456811, 0.345238,\n",
              "        2.8405560000000003, 0.232861],\n",
              "       [178.222, 202.45, 141.047, 0.00321, 2e-05, 0.0016300000000000002,\n",
              "        0.0019399999999999999, 0.00488, 0.03759, 0.327,\n",
              "        0.020730000000000002, 0.02415, 0.027839999999999997,\n",
              "        0.062189999999999995, 0.03151, 15.924, 0.5987140000000001,\n",
              "        0.712199, -6.366916000000001, 0.335753, 2.654271,\n",
              "        0.14461400000000002],\n",
              "       [167.93, 193.221, 79.068, 0.00442, 2.9999999999999997e-05, 0.0022,\n",
              "        0.00247, 0.0066099999999999996, 0.04351, 0.377, 0.02228, 0.0254,\n",
              "        0.042460000000000005, 0.06685, 0.0128, 22.468, 0.61906, 0.679834,\n",
              "        -4.330956, 0.262384, 2.916777, 0.285695],\n",
              "       [228.969, 239.541, 113.201, 0.00238, 1e-05, 0.0013599999999999999,\n",
              "        0.0014, 0.004079999999999999, 0.01745, 0.154, 0.00942, 0.0116,\n",
              "        0.01234, 0.02827, 0.0042, 24.547, 0.305429, 0.681811,\n",
              "        -7.314236999999999, 0.006274, 2.1185959999999997, 0.091546],\n",
              "       [157.447, 163.267, 149.605, 0.0036899999999999997, 2e-05, 0.00201,\n",
              "        0.00197, 0.00602, 0.03272, 0.283, 0.01813, 0.01909,\n",
              "        0.025710000000000004, 0.05439, 0.01018, 21.693,\n",
              "        0.44728500000000004, 0.705658, -6.247076, 0.180528, 2.344348,\n",
              "        0.164916],\n",
              "       [176.858, 205.56, 75.344, 0.00747, 4e-05, 0.00418, 0.0042,\n",
              "        0.01254, 0.04795, 0.435, 0.026789999999999998, 0.03022, 0.0351,\n",
              "        0.08037000000000001, 0.0547, 13.893, 0.5564939999999999,\n",
              "        0.729586, -5.288912, 0.343073, 3.0993009999999996, 0.242119],\n",
              "       [198.764, 396.961, 74.904, 0.0074, 4e-05, 0.0037, 0.0039,\n",
              "        0.011090000000000001, 0.022959999999999998, 0.241, 0.01265,\n",
              "        0.01321, 0.015880000000000002, 0.037939999999999995,\n",
              "        0.07222999999999999, 19.02, 0.451221, 0.6439560000000001,\n",
              "        -6.7445770000000005, 0.207454, 2.138608, 0.123306],\n",
              "       [148.143, 155.982, 135.041, 0.00392, 2.9999999999999997e-05,\n",
              "        0.0020399999999999997, 0.00231, 0.0061200000000000004, 0.0145,\n",
              "        0.131, 0.00725, 0.008759999999999999, 0.012629999999999999,\n",
              "        0.02175, 0.0054, 23.683, 0.398499, 0.778349, -5.7112050000000005,\n",
              "        0.240875, 2.845109, 0.19272999999999998],\n",
              "       [100.96, 110.019, 95.628, 0.00606, 5.9999999999999995e-05,\n",
              "        0.00351, 0.0034799999999999996, 0.01053, 0.02427, 0.216, 0.01371,\n",
              "        0.014209999999999999, 0.017509999999999998, 0.041139999999999996,\n",
              "        0.01237, 20.536, 0.55461, 0.787896, -5.022288, 0.146948,\n",
              "        2.428306, 0.264666],\n",
              "       [202.632, 565.74, 177.258, 0.01627, 8e-05, 0.00919, 0.00963,\n",
              "        0.02756, 0.0717, 0.833, 0.03515, 0.04265, 0.0646,\n",
              "        0.10545999999999998, 0.07889, 14.989, 0.42762700000000003,\n",
              "        0.775708, -4.892494999999999, 0.262281, 2.910213, 0.270173],\n",
              "       [245.51, 262.09, 231.848, 0.00235, 1e-05, 0.0012699999999999999,\n",
              "        0.00148, 0.0038, 0.01608, 0.141, 0.009059999999999999,\n",
              "        0.009770000000000001, 0.01149, 0.02719, 0.00476, 24.602,\n",
              "        0.46748900000000004, 0.631653, -7.156076, 0.127642, 2.392122,\n",
              "        0.097336],\n",
              "       [117.004, 144.466, 99.923, 0.0035299999999999997,\n",
              "        2.9999999999999997e-05, 0.00176, 0.00218, 0.00528,\n",
              "        0.016569999999999998, 0.145, 0.00881, 0.010620000000000001,\n",
              "        0.01318, 0.026430000000000002, 0.0059, 25.445, 0.387482,\n",
              "        0.756482, -6.0125589999999995, 0.229298, 1.872946, 0.163118],\n",
              "       [183.52, 216.814, 161.34, 0.01466, 8e-05, 0.008490000000000001,\n",
              "        0.008190000000000001, 0.02546, 0.0605, 0.618, 0.02865,\n",
              "        0.041010000000000005, 0.06359, 0.08595, 0.060570000000000006,\n",
              "        14.367, 0.478024, 0.7689739999999999, -4.276605, 0.355736,\n",
              "        3.142364, 0.33608499999999997],\n",
              "       [116.15, 131.731, 109.815, 0.00381, 2.9999999999999997e-05,\n",
              "        0.0018100000000000002, 0.00232, 0.00542, 0.030260000000000002,\n",
              "        0.267, 0.01514, 0.018119999999999997, 0.0277, 0.04543,\n",
              "        0.018269999999999998, 18.801, 0.624811, 0.696049, -5.866357,\n",
              "        0.23306999999999997, 2.445646, 0.18498499999999998],\n",
              "       [140.341, 159.774, 67.021, 0.00817, 5.9999999999999995e-05,\n",
              "        0.0043, 0.0044, 0.01289, 0.03198, 0.313, 0.0183, 0.0181, 0.02428,\n",
              "        0.0549, 0.021830000000000002, 19.56, 0.460139, 0.720908,\n",
              "        -5.409423, 0.22685, 2.359973, 0.226156],\n",
              "       [110.793, 128.101, 107.316, 0.00494, 4e-05, 0.0026, 0.00283,\n",
              "        0.0078, 0.024419999999999997, 0.216, 0.01432, 0.01325, 0.01831,\n",
              "        0.04295, 0.00479, 25.438, 0.43703100000000006, 0.815908,\n",
              "        -5.313359999999999, 0.20186099999999998, 2.2258150000000003,\n",
              "        0.24451199999999998],\n",
              "       [139.224, 586.567, 66.157, 0.03011, 0.00022, 0.01854,\n",
              "        0.016280000000000003, 0.05563, 0.09419, 0.93,\n",
              "        0.055510000000000004, 0.05005, 0.06023, 0.16654000000000002,\n",
              "        0.2593, 10.489, 0.596362, 0.641418, -3.269487,\n",
              "        0.27064099999999996, 2.690917, 0.444774],\n",
              "       [125.791, 140.557, 96.206, 0.01378, 0.00011, 0.00826, 0.00655,\n",
              "        0.02478, 0.04689, 0.422, 0.025419999999999998, 0.0263,\n",
              "        0.039080000000000004, 0.07625, 0.10323, 15.433, 0.57101,\n",
              "        0.6908920000000001, -5.159169, 0.202146, 2.441612, 0.260375],\n",
              "       [119.056, 125.213, 86.795, 0.00346, 2.9999999999999997e-05,\n",
              "        0.0016899999999999999, 0.0017, 0.0050799999999999994, 0.01201,\n",
              "        0.106, 0.00633, 0.00701, 0.00915, 0.01898, 0.00903, 23.389,\n",
              "        0.470972, 0.721308, -5.436135, 0.254909, 2.51632,\n",
              "        0.23220900000000003],\n",
              "       [236.2, 244.663, 102.137, 0.00277, 1e-05, 0.0015400000000000001,\n",
              "        0.0015300000000000001, 0.00462, 0.024480000000000002, 0.217,\n",
              "        0.0141, 0.01426, 0.01621, 0.04231, 0.0062, 24.078,\n",
              "        0.46992799999999996, 0.628232, -6.816086, 0.17227,\n",
              "        2.2351970000000003, 0.119652],\n",
              "       [158.219, 442.557, 71.948, 0.00476, 2.9999999999999997e-05,\n",
              "        0.00214, 0.00207, 0.00642, 0.014580000000000001, 0.148, 0.00606,\n",
              "        0.00747, 0.01312, 0.01818, 0.01554, 26.356, 0.450798,\n",
              "        0.6538229999999999, -6.051233, 0.27328, 2.6407979999999998,\n",
              "        0.170106],\n",
              "       [122.336, 142.369, 94.794, 0.00727, 5.9999999999999995e-05,\n",
              "        0.00415, 0.00339, 0.012459999999999999, 0.022930000000000002,\n",
              "        0.223, 0.01205, 0.01289, 0.01771, 0.03615, 0.03191, 22.953,\n",
              "        0.611679, 0.623731, -5.4351, 0.23053200000000001,\n",
              "        2.6996450000000003, 0.220546],\n",
              "       [91.904, 115.871, 86.292, 0.0054, 5.9999999999999995e-05, 0.00281,\n",
              "        0.00336, 0.008440000000000001, 0.02752, 0.249,\n",
              "        0.014240000000000001, 0.01641, 0.02214, 0.04272, 0.01141, 21.414,\n",
              "        0.58339, 0.79252, -4.960234, 0.363566, 2.642476, 0.275931],\n",
              "       [173.898, 211.35, 74.677, 0.00448, 2.9999999999999997e-05,\n",
              "        0.00237, 0.0025399999999999997, 0.0071, 0.06727000000000001,\n",
              "        0.65, 0.037880000000000004, 0.042539999999999994, 0.04802,\n",
              "        0.11363, 0.04214, 14.739, 0.599371, 0.743937, -5.783272,\n",
              "        0.299793, 3.0070959999999998, 0.194052],\n",
              "       [116.879, 131.897, 108.153, 0.00788, 7e-05, 0.0033399999999999997,\n",
              "        0.0049299999999999995, 0.010029999999999999, 0.02645, 0.265,\n",
              "        0.013940000000000001, 0.01625, 0.02137, 0.04183,\n",
              "        0.007859999999999999, 22.603, 0.540049, 0.8134319999999999,\n",
              "        -4.476755000000001, 0.262633, 1.8270119999999999,\n",
              "        0.32619699999999996],\n",
              "       [193.03, 208.9, 80.297, 0.007659999999999999, 4e-05, 0.0045,\n",
              "        0.00389, 0.01351, 0.03044, 0.275, 0.01771, 0.01815, 0.02084,\n",
              "        0.05312000000000001, 0.009470000000000001, 21.934, 0.497554,\n",
              "        0.7405390000000001, -5.845098999999999, 0.278679, 2.608749,\n",
              "        0.185668],\n",
              "       [138.19, 203.522, 83.34, 0.00704, 5e-05, 0.00406, 0.00398,\n",
              "        0.01218, 0.044789999999999996, 0.441, 0.025869999999999997,\n",
              "        0.02567, 0.0322, 0.07761, 0.01968, 18.305, 0.5380159999999999,\n",
              "        0.74148, -5.418787, 0.16026700000000002, 2.0904380000000002,\n",
              "        0.229892],\n",
              "       [174.188, 230.978, 94.261, 0.0045899999999999995,\n",
              "        2.9999999999999997e-05, 0.00263, 0.00259, 0.0079, 0.04087, 0.405,\n",
              "        0.02336, 0.024980000000000002, 0.02745, 0.07007999999999999,\n",
              "        0.027639999999999998, 19.517, 0.44843900000000003, 0.657899,\n",
              "        -6.5385860000000005, 0.121952, 2.657476, 0.13305],\n",
              "       [149.818, 163.417, 144.786, 0.00336, 2e-05, 0.0017399999999999998,\n",
              "        0.00198, 0.00521, 0.02145, 0.198, 0.01155, 0.01341,\n",
              "        0.016659999999999998, 0.03464, 0.00595, 23.008, 0.329577,\n",
              "        0.75718, -6.27717, 0.10939700000000001, 2.209021, 0.156368],\n",
              "       [95.385, 102.145, 90.264, 0.0060799999999999995,\n",
              "        5.9999999999999995e-05, 0.00331, 0.0033200000000000005,\n",
              "        0.009940000000000001, 0.03202, 0.263, 0.01803, 0.01886, 0.02455,\n",
              "        0.054079999999999996, 0.010620000000000001, 21.875, 0.644954,\n",
              "        0.779612, -5.1152120000000005, 0.249494, 2.017753, 0.260015],\n",
              "       [151.989, 157.339, 132.857, 0.0017399999999999998, 1e-05, 0.00075,\n",
              "        0.0009599999999999999, 0.00225, 0.01024, 0.093, 0.00455, 0.00576,\n",
              "        0.00993, 0.013640000000000001, 0.00238, 29.928, 0.311369,\n",
              "        0.676066, -6.739151, 0.160686, 2.296873, 0.11513],\n",
              "       [119.1, 128.442, 88.833, 0.00692, 5.9999999999999995e-05,\n",
              "        0.0039299999999999995, 0.003, 0.01179, 0.02682, 0.236, 0.01484,\n",
              "        0.01405, 0.02018, 0.04451, 0.046110000000000005, 21.824, 0.65168,\n",
              "        0.659333, -4.239028, 0.175691, 2.45113, 0.247455]], dtype=object)"
            ]
          },
          "metadata": {
            "tags": []
          },
          "execution_count": 22
        }
      ]
    },
    {
      "cell_type": "markdown",
      "metadata": {
        "id": "dDvHOQy7uRCK",
        "colab_type": "text"
      },
      "source": [
        "# **Predicting the accuracy**"
      ]
    },
    {
      "cell_type": "code",
      "metadata": {
        "id": "boFKyPIRMF5V",
        "colab_type": "code",
        "colab": {
          "base_uri": "https://localhost:8080/",
          "height": 34
        },
        "outputId": "726217b3-1ad4-4e40-ae2b-133a72f9496e"
      },
      "source": [
        "from sklearn.metrics import accuracy_score\n",
        "y_pred=model.predict(x_test)\n",
        "print(accuracy_score(y_test, y_pred))"
      ],
      "execution_count": null,
      "outputs": [
        {
          "output_type": "stream",
          "text": [
            "0.9487179487179487\n"
          ],
          "name": "stdout"
        }
      ]
    },
    {
      "cell_type": "code",
      "metadata": {
        "id": "jrwpToEfM8Ic",
        "colab_type": "code",
        "colab": {
          "base_uri": "https://localhost:8080/",
          "height": 51
        },
        "outputId": "3c7e9ae8-26c5-47db-ca60-e79346d2f609"
      },
      "source": [
        "y_pred"
      ],
      "execution_count": null,
      "outputs": [
        {
          "output_type": "execute_result",
          "data": {
            "text/plain": [
              "array([1, 1, 1, 1, 1, 1, 1, 1, 1, 1, 0, 1, 1, 0, 1, 1, 1, 0, 1, 1, 1, 1,\n",
              "       1, 1, 1, 1, 0, 1, 1, 1, 1, 1, 1, 1, 0, 1, 1, 1, 1])"
            ]
          },
          "metadata": {
            "tags": []
          },
          "execution_count": 24
        }
      ]
    },
    {
      "cell_type": "markdown",
      "metadata": {
        "id": "_ko-hBZNuYU9",
        "colab_type": "text"
      },
      "source": [
        "# **Result**"
      ]
    },
    {
      "cell_type": "code",
      "metadata": {
        "id": "_sBPKsN5MkR3",
        "colab_type": "code",
        "colab": {
          "base_uri": "https://localhost:8080/",
          "height": 34
        },
        "outputId": "89890153-3aca-480b-b3e1-239b28a2cf7a"
      },
      "source": [
        "model.predict([209.516, 253.017, 89.488, 0.00564, 2.9999999999999997e-05,\n",
        "        0.00331, 0.00292, 0.009940000000000001, 0.027510000000000003,\n",
        "        0.263, 0.016040000000000002, 0.016569999999999998, 0.01879,\n",
        "        0.048119999999999996, 0.0181, 19.147, 0.431674, 0.683244,\n",
        "        -6.195325, 0.129303, 2.784312, 0.16889500000000002])"
      ],
      "execution_count": null,
      "outputs": [
        {
          "output_type": "execute_result",
          "data": {
            "text/plain": [
              "array([1])"
            ]
          },
          "metadata": {
            "tags": []
          },
          "execution_count": 25
        }
      ]
    },
    {
      "cell_type": "code",
      "metadata": {
        "id": "qvecYdbgNFRO",
        "colab_type": "code",
        "colab": {
          "base_uri": "https://localhost:8080/",
          "height": 34
        },
        "outputId": "0054162d-551c-46cc-8385-a93c9b0609ca"
      },
      "source": [
        "model.predict([228.969, 239.541, 113.201, 0.00238, 1e-05, 0.0013599999999999999,\n",
        "        0.0014, 0.004079999999999999, 0.01745, 0.154, 0.00942, 0.0116,\n",
        "        0.01234, 0.02827, 0.0042, 24.547, 0.305429, 0.681811,\n",
        "        -7.314236999999999, 0.006274, 2.1185959999999997, 0.091546])"
      ],
      "execution_count": null,
      "outputs": [
        {
          "output_type": "execute_result",
          "data": {
            "text/plain": [
              "array([0])"
            ]
          },
          "metadata": {
            "tags": []
          },
          "execution_count": 26
        }
      ]
    },
    {
      "cell_type": "code",
      "metadata": {
        "id": "4hx29dbZNL7A",
        "colab_type": "code",
        "colab": {}
      },
      "source": [
        "import pickle\n",
        "pickle.dump(model,open('model.pkl','wb')) #write mode\n",
        "model1=pickle.load(open('model.pkl','rb')) #read mode"
      ],
      "execution_count": null,
      "outputs": []
    }
  ]
}