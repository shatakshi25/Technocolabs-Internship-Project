{
  "nbformat": 4,
  "nbformat_minor": 0,
  "metadata": {
    "kernelspec": {
      "display_name": "Python 3",
      "language": "python",
      "name": "python3"
    },
    "language_info": {
      "codemirror_mode": {
        "name": "ipython",
        "version": 3
      },
      "file_extension": ".py",
      "mimetype": "text/x-python",
      "name": "python",
      "nbconvert_exporter": "python",
      "pygments_lexer": "ipython3",
      "version": "3.7.4"
    },
    "colab": {
      "name": "Fitting_a_Logistic_Regression_Model.ipynb",
      "provenance": [],
      "collapsed_sections": []
    }
  },
  "cells": [
    {
      "cell_type": "markdown",
      "metadata": {
        "id": "hOeIMYoP_Kl3"
      },
      "source": [
        "**Run the following two cells before you begin.**"
      ]
    },
    {
      "cell_type": "code",
      "metadata": {
        "id": "03xkb5NZ_Xfk",
        "outputId": "8d7520d5-ca69-4ffc-bd91-a8cd6272b1e7",
        "colab": {
          "base_uri": "https://localhost:8080/",
          "height": 94
        }
      },
      "source": [
        "from google.colab import drive\n",
        "drive.mount('/content/drive')"
      ],
      "execution_count": null,
      "outputs": [
        {
          "output_type": "stream",
          "text": [
            "Drive already mounted at /content/drive; to attempt to forcibly remount, call drive.mount(\"/content/drive\", force_remount=True).\n"
          ],
          "name": "stdout"
        }
      ]
    },
    {
      "cell_type": "code",
      "metadata": {
        "id": "7CzJledu_Kl7",
        "outputId": "656cc9b7-b293-4296-8de8-3f5759731cb3",
        "colab": {
          "base_uri": "https://localhost:8080/",
          "height": 34
        }
      },
      "source": [
        "%autosave 10"
      ],
      "execution_count": null,
      "outputs": [
        {
          "output_type": "display_data",
          "data": {
            "application/javascript": [
              "IPython.notebook.set_autosave_interval(10000)"
            ]
          },
          "metadata": {
            "tags": []
          }
        },
        {
          "output_type": "stream",
          "text": [
            "Autosaving every 10 seconds\n"
          ],
          "name": "stdout"
        }
      ]
    },
    {
      "cell_type": "code",
      "metadata": {
        "id": "4ht2SxPt_KmL"
      },
      "source": [
        "import pandas as pd\n",
        "import numpy as np\n",
        "import seaborn as sns\n",
        "import matplotlib.pyplot as plt\n",
        "import matplotlib as mpl\n",
        "\n",
        "%matplotlib inline"
      ],
      "execution_count": null,
      "outputs": []
    },
    {
      "cell_type": "markdown",
      "metadata": {
        "id": "01soBxuG_KmX"
      },
      "source": [
        "______________________________________________________________________\n",
        "**First, import your data set and define the sigmoid function.**\n",
        "<details>\n",
        "    <summary>Hint:</summary>\n",
        "    The definition of the sigmoid is $f(x) = \\frac{1}{1 + e^{-X}}$.\n",
        "</details>"
      ]
    },
    {
      "cell_type": "code",
      "metadata": {
        "id": "Q3sRomtb_KmZ"
      },
      "source": [
        "# Import the data set\n",
        "df = pd.read_csv('/content/drive/My Drive/Technocolabs project/cleaned_data.csv')\n"
      ],
      "execution_count": null,
      "outputs": []
    },
    {
      "cell_type": "code",
      "metadata": {
        "id": "6vem6ipT_Kmg"
      },
      "source": [
        "# Define the sigmoid function\n",
        "features_response = ['LIMIT_BAL', 'EDUCATION', 'MARRIAGE', 'AGE', 'PAY_1', 'BILL_AMT1', 'BILL_AMT2','BILL_AMT3', 'BILL_AMT4', 'BILL_AMT5', 'BILL_AMT6', 'PAY_AMT1','PAY_AMT2', 'PAY_AMT3', 'PAY_AMT4', 'PAY_AMT5', 'PAY_AMT6', 'default payment next month']\n"
      ],
      "execution_count": null,
      "outputs": []
    },
    {
      "cell_type": "code",
      "metadata": {
        "id": "JxsibKLAAMGW",
        "outputId": "f29e5aba-45cc-4c4d-c883-43586ada21e8",
        "colab": {
          "base_uri": "https://localhost:8080/",
          "height": 265
        }
      },
      "source": [
        "def sigmoid(x):\n",
        "    z = 1/(1+np.exp(-x))\n",
        "    return z\n",
        "\n",
        "x = np.linspace(-10,10,100)\n",
        "y = sigmoid(x)\n",
        "plt.plot(x, y)\n",
        "plt.show()"
      ],
      "execution_count": null,
      "outputs": [
        {
          "output_type": "display_data",
          "data": {
            "image/png": "[encoded data removed]",
            "text/plain": [
              "<Figure size 432x288 with 1 Axes>"
            ]
          },
          "metadata": {
            "tags": [],
            "needs_background": "light"
          }
        }
      ]
    },
    {
      "cell_type": "code",
      "metadata": {
        "id": "I4o0jTpc_6hE",
        "outputId": "e64d4e56-2792-4640-c8e9-0b6c87348d8e",
        "colab": {
          "base_uri": "https://localhost:8080/",
          "height": 204
        }
      },
      "source": [
        "corr = df[features_response].corr()\n",
        "corr.iloc[0:5,0:5]"
      ],
      "execution_count": null,
      "outputs": [
        {
          "output_type": "execute_result",
          "data": {
            "text/html": [
              "<div>\n",
              "<style scoped>\n",
              "    .dataframe tbody tr th:only-of-type {\n",
              "        vertical-align: middle;\n",
              "    }\n",
              "\n",
              "    .dataframe tbody tr th {\n",
              "        vertical-align: top;\n",
              "    }\n",
              "\n",
              "    .dataframe thead th {\n",
              "        text-align: right;\n",
              "    }\n",
              "</style>\n",
              "<table border=\"1\" class=\"dataframe\">\n",
              "  <thead>\n",
              "    <tr style=\"text-align: right;\">\n",
              "      <th></th>\n",
              "      <th>LIMIT_BAL</th>\n",
              "      <th>EDUCATION</th>\n",
              "      <th>MARRIAGE</th>\n",
              "      <th>AGE</th>\n",
              "      <th>PAY_1</th>\n",
              "    </tr>\n",
              "  </thead>\n",
              "  <tbody>\n",
              "    <tr>\n",
              "      <th>LIMIT_BAL</th>\n",
              "      <td>1.000000</td>\n",
              "      <td>-0.232688</td>\n",
              "      <td>-0.111873</td>\n",
              "      <td>0.149157</td>\n",
              "      <td>-0.273396</td>\n",
              "    </tr>\n",
              "    <tr>\n",
              "      <th>EDUCATION</th>\n",
              "      <td>-0.232688</td>\n",
              "      <td>1.000000</td>\n",
              "      <td>-0.137097</td>\n",
              "      <td>0.179035</td>\n",
              "      <td>0.112653</td>\n",
              "    </tr>\n",
              "    <tr>\n",
              "      <th>MARRIAGE</th>\n",
              "      <td>-0.111873</td>\n",
              "      <td>-0.137097</td>\n",
              "      <td>1.000000</td>\n",
              "      <td>-0.412828</td>\n",
              "      <td>0.019759</td>\n",
              "    </tr>\n",
              "    <tr>\n",
              "      <th>AGE</th>\n",
              "      <td>0.149157</td>\n",
              "      <td>0.179035</td>\n",
              "      <td>-0.412828</td>\n",
              "      <td>1.000000</td>\n",
              "      <td>-0.044277</td>\n",
              "    </tr>\n",
              "    <tr>\n",
              "      <th>PAY_1</th>\n",
              "      <td>-0.273396</td>\n",
              "      <td>0.112653</td>\n",
              "      <td>0.019759</td>\n",
              "      <td>-0.044277</td>\n",
              "      <td>1.000000</td>\n",
              "    </tr>\n",
              "  </tbody>\n",
              "</table>\n",
              "</div>"
            ],
            "text/plain": [
              "           LIMIT_BAL  EDUCATION  MARRIAGE       AGE     PAY_1\n",
              "LIMIT_BAL   1.000000  -0.232688 -0.111873  0.149157 -0.273396\n",
              "EDUCATION  -0.232688   1.000000 -0.137097  0.179035  0.112653\n",
              "MARRIAGE   -0.111873  -0.137097  1.000000 -0.412828  0.019759\n",
              "AGE         0.149157   0.179035 -0.412828  1.000000 -0.044277\n",
              "PAY_1      -0.273396   0.112653  0.019759 -0.044277  1.000000"
            ]
          },
          "metadata": {
            "tags": []
          },
          "execution_count": 8
        }
      ]
    },
    {
      "cell_type": "code",
      "metadata": {
        "id": "8h1go60S_9j3",
        "outputId": "d9e40315-3a5b-4037-851b-922c9f4ff011",
        "colab": {
          "base_uri": "https://localhost:8080/",
          "height": 729
        }
      },
      "source": [
        "plt.figure(figsize = (10,10))\n",
        "sns.heatmap(corr, xticklabels=corr.columns.values, yticklabels=corr.columns.values, center=0, cmap='RdYlGn')\n",
        "plt.show()\n"
      ],
      "execution_count": null,
      "outputs": [
        {
          "output_type": "display_data",
          "data": {
            "image/png": "[encoded data removed]",
            "text/plain": [
              "<Figure size 720x720 with 2 Axes>"
            ]
          },
          "metadata": {
            "tags": [],
            "needs_background": "light"
          }
        }
      ]
    },
    {
      "cell_type": "markdown",
      "metadata": {
        "id": "jB5puIPW_Kmn"
      },
      "source": [
        "**Now, create a train/test split (80/20) with `PAY_1` and `LIMIT_BAL` as features and `default payment next month` as values. Use a random state of 24.**"
      ]
    },
    {
      "cell_type": "code",
      "metadata": {
        "id": "FpWyhOPk_Kmp"
      },
      "source": [
        "# Create a train/test split\n",
        "X = df[['PAY_1', 'LIMIT_BAL']]\n",
        "Y = df['default payment next month']\n",
        "from sklearn.model_selection import train_test_split\n",
        "X_train, X_test, y_train, y_test = train_test_split(X,Y,random_state=24, test_size=0.2)"
      ],
      "execution_count": null,
      "outputs": []
    },
    {
      "cell_type": "markdown",
      "metadata": {
        "id": "NyW451yJ_Kmt"
      },
      "source": [
        "______________________________________________________________________\n",
        "**Next, import LogisticRegression, with the default options, but set the solver to `'liblinear'`.**"
      ]
    },
    {
      "cell_type": "code",
      "metadata": {
        "id": "j6yKSCA__Kmu"
      },
      "source": [
        "from sklearn.linear_model import LogisticRegression\n",
        "model = LogisticRegression(solver='liblinear')"
      ],
      "execution_count": null,
      "outputs": []
    },
    {
      "cell_type": "markdown",
      "metadata": {
        "id": "qVNpEEBJ_Km0"
      },
      "source": [
        "______________________________________________________________________\n",
        "**Now, train on the training data and obtain predicted classes, as well as class probabilities, using the testing data.**"
      ]
    },
    {
      "cell_type": "code",
      "metadata": {
        "id": "0knKmaUd_Km2",
        "outputId": "5947d5bf-1dc0-4850-f78f-3c480110f23c",
        "colab": {
          "base_uri": "https://localhost:8080/",
          "height": 102
        }
      },
      "source": [
        "# Fit the logistic regression model on training data\n",
        "model.fit(X_train,y_train)"
      ],
      "execution_count": null,
      "outputs": [
        {
          "output_type": "execute_result",
          "data": {
            "text/plain": [
              "LogisticRegression(C=1.0, class_weight=None, dual=False, fit_intercept=True,\n",
              "                   intercept_scaling=1, l1_ratio=None, max_iter=100,\n",
              "                   multi_class='auto', n_jobs=None, penalty='l2',\n",
              "                   random_state=None, solver='liblinear', tol=0.0001, verbose=0,\n",
              "                   warm_start=False)"
            ]
          },
          "metadata": {
            "tags": []
          },
          "execution_count": 12
        }
      ]
    },
    {
      "cell_type": "code",
      "metadata": {
        "id": "VjXX6dVm_Km7",
        "outputId": "00b90881-47a7-404b-8e0f-37a51d06eb1f",
        "colab": {
          "base_uri": "https://localhost:8080/",
          "height": 34
        }
      },
      "source": [
        "# Make predictions using `.predict()`\n",
        "y_pred = model.predict(X_test)\n",
        "y_pred"
      ],
      "execution_count": null,
      "outputs": [
        {
          "output_type": "execute_result",
          "data": {
            "text/plain": [
              "array([0, 0, 0, ..., 0, 0, 0])"
            ]
          },
          "metadata": {
            "tags": []
          },
          "execution_count": 14
        }
      ]
    },
    {
      "cell_type": "code",
      "metadata": {
        "id": "oK8StNWN_Km-",
        "outputId": "791075a9-dfc4-4b19-c3ba-2d34574b6eff",
        "colab": {
          "base_uri": "https://localhost:8080/",
          "height": 136
        }
      },
      "source": [
        "# Find class probabilities using `.predict_proba()`\n",
        "y_pred_prob = model.predict_proba(X_test)\n",
        "y_pred_prob"
      ],
      "execution_count": null,
      "outputs": [
        {
          "output_type": "execute_result",
          "data": {
            "text/plain": [
              "array([[0.74826924, 0.25173076],\n",
              "       [0.584297  , 0.415703  ],\n",
              "       [0.79604453, 0.20395547],\n",
              "       ...,\n",
              "       [0.584297  , 0.415703  ],\n",
              "       [0.82721498, 0.17278502],\n",
              "       [0.66393435, 0.33606565]])"
            ]
          },
          "metadata": {
            "tags": []
          },
          "execution_count": 15
        }
      ]
    },
    {
      "cell_type": "code",
      "metadata": {
        "id": "uMwwhZ3zUypt",
        "outputId": "c3f19047-a501-4d37-da69-b66f726f1555",
        "colab": {
          "base_uri": "https://localhost:8080/",
          "height": 34
        }
      },
      "source": [
        "from sklearn import metrics\n",
        "metrics.accuracy_score(y_test, y_pred)"
      ],
      "execution_count": null,
      "outputs": [
        {
          "output_type": "execute_result",
          "data": {
            "text/plain": [
              "0.7834239639977498"
            ]
          },
          "metadata": {
            "tags": []
          },
          "execution_count": 16
        }
      ]
    },
    {
      "cell_type": "markdown",
      "metadata": {
        "id": "Ii2TTCp6_KnD"
      },
      "source": [
        "______________________________________________________________________\n",
        "**Then, pull out the coefficients and intercept from the trained model and manually calculate predicted probabilities. You'll need to add a column of 1s to your features, to multiply by the intercept.**"
      ]
    },
    {
      "cell_type": "code",
      "metadata": {
        "id": "AP9SRxq6_KnE",
        "outputId": "d100b33e-d897-499d-cd3c-e4dba316885f",
        "colab": {
          "base_uri": "https://localhost:8080/",
          "height": 510
        }
      },
      "source": [
        "# Add column of 1s to features\n",
        "ones = np.ones((X_test.shape[0],1))\n",
        "feats = np.hstack([ones, X_test])\n",
        "print(ones)\n",
        "print('\\n', X_test)\n",
        "print(feats)"
      ],
      "execution_count": null,
      "outputs": [
        {
          "output_type": "stream",
          "text": [
            "[[1.]\n",
            " [1.]\n",
            " [1.]\n",
            " ...\n",
            " [1.]\n",
            " [1.]\n",
            " [1.]]\n",
            "\n",
            "        PAY_1  LIMIT_BAL\n",
            "14306      2     160000\n",
            "2978       1      50000\n",
            "16641     -1     200000\n",
            "18580      3     200000\n",
            "131        1      50000\n",
            "...      ...        ...\n",
            "18160      0     140000\n",
            "19779     -1      50000\n",
            "6666      -1      50000\n",
            "18990      1     230000\n",
            "23253      2     100000\n",
            "\n",
            "[5333 rows x 2 columns]\n",
            "[[ 1.0e+00  2.0e+00  1.6e+05]\n",
            " [ 1.0e+00  1.0e+00  5.0e+04]\n",
            " [ 1.0e+00 -1.0e+00  2.0e+05]\n",
            " ...\n",
            " [ 1.0e+00 -1.0e+00  5.0e+04]\n",
            " [ 1.0e+00  1.0e+00  2.3e+05]\n",
            " [ 1.0e+00  2.0e+00  1.0e+05]]\n"
          ],
          "name": "stdout"
        }
      ]
    },
    {
      "cell_type": "code",
      "metadata": {
        "id": "v6bGFh2Q_KnJ",
        "outputId": "0b0d28f2-1986-4032-9490-b32f8fd38a22",
        "colab": {
          "base_uri": "https://localhost:8080/",
          "height": 68
        }
      },
      "source": [
        "# Get coefficients and intercepts from trained model\n",
        "model_coeff = model.coef_\n",
        "model_intercepts = model.intercept_\n",
        "\n",
        "print('\\n', model_intercepts)\n",
        "print(model_coeff)"
      ],
      "execution_count": null,
      "outputs": [
        {
          "output_type": "stream",
          "text": [
            "\n",
            " [-6.57647457e-11]\n",
            "[[ 8.27451187e-11 -6.80876727e-06]]\n"
          ],
          "name": "stdout"
        }
      ]
    },
    {
      "cell_type": "code",
      "metadata": {
        "id": "Xo13qKjR_KnN",
        "outputId": "9bb0e9f0-ac3c-4a4e-a3d4-9196b946ce8f",
        "colab": {
          "base_uri": "https://localhost:8080/",
          "height": 51
        }
      },
      "source": [
        "# Manually calculate predicted probabilities\n",
        "coeff_inter_feats = np.concatenate([model_intercepts.reshape(1,1),model_coeff], axis=1)\n",
        "coeff_inter_feats\n",
        "manual_proba = np.dot(coeff_inter_feats,np.transpose(feats))\n",
        "manual_proba = sigmoid(manual_proba)\n",
        "manual_proba"
      ],
      "execution_count": null,
      "outputs": [
        {
          "output_type": "execute_result",
          "data": {
            "text/plain": [
              "array([[0.25173076, 0.415703  , 0.20395547, ..., 0.415703  , 0.17278502,\n",
              "        0.33606565]])"
            ]
          },
          "metadata": {
            "tags": []
          },
          "execution_count": 19
        }
      ]
    },
    {
      "cell_type": "markdown",
      "metadata": {
        "id": "iFZiG4IE_KnS"
      },
      "source": [
        "______________________________________________________________________\n",
        "**Next, using a threshold of `0.5`, manually calculate predicted classes. Compare this to the class predictions output by scikit-learn.**"
      ]
    },
    {
      "cell_type": "code",
      "metadata": {
        "id": "fVhrspD0_KnT",
        "outputId": "a8a8d802-c241-49ff-d09a-881eafff6c73",
        "colab": {
          "base_uri": "https://localhost:8080/",
          "height": 34
        }
      },
      "source": [
        "# Manually calculate predicted classes\n",
        "y_pred_manual = manual_proba > 0.5\n",
        "y_pred_manual.shape"
      ],
      "execution_count": null,
      "outputs": [
        {
          "output_type": "execute_result",
          "data": {
            "text/plain": [
              "(1, 5333)"
            ]
          },
          "metadata": {
            "tags": []
          },
          "execution_count": 20
        }
      ]
    },
    {
      "cell_type": "code",
      "metadata": {
        "id": "OZ9ZUoq4_KnX",
        "outputId": "f1747d2e-9c59-411f-86e7-67356c6dab97",
        "colab": {
          "base_uri": "https://localhost:8080/",
          "height": 34
        }
      },
      "source": [
        "# Compare to scikit-learn's predicted classes\n",
        "y_pred.shape\n",
        "np.array_equal(y_pred_manual, y_pred.reshape(1,-1))"
      ],
      "execution_count": null,
      "outputs": [
        {
          "output_type": "execute_result",
          "data": {
            "text/plain": [
              "True"
            ]
          },
          "metadata": {
            "tags": []
          },
          "execution_count": 21
        }
      ]
    },
    {
      "cell_type": "markdown",
      "metadata": {
        "id": "NnPXUo8w_Knc"
      },
      "source": [
        "______________________________________________________________________\n",
        "**Finally, calculate ROC AUC using both scikit-learn's predicted probabilities, and your manually predicted probabilities, and compare.**"
      ]
    },
    {
      "cell_type": "code",
      "metadata": {
        "eid": "e7697",
        "id": "CTnnNjeb_Knc",
        "outputId": "71a38256-30d5-4bea-f945-5d7df12b0f92",
        "colab": {
          "base_uri": "https://localhost:8080/",
          "height": 34
        }
      },
      "source": [
        "# Use scikit-learn's predicted probabilities to calculate ROC AUC\n",
        "from sklearn.metrics import roc_auc_score\n",
        "roc_auc_score(y_test, y_pred_prob[:,1])"
      ],
      "execution_count": null,
      "outputs": [
        {
          "output_type": "execute_result",
          "data": {
            "text/plain": [
              "0.627207450280691"
            ]
          },
          "metadata": {
            "tags": []
          },
          "execution_count": 22
        }
      ]
    },
    {
      "cell_type": "code",
      "metadata": {
        "id": "k31kfEn1_Knf",
        "outputId": "52b004dc-52cb-48e0-e8ad-3e31c0ec75dc",
        "colab": {
          "base_uri": "https://localhost:8080/",
          "height": 34
        }
      },
      "source": [
        "# Use manually calculated predicted probabilities to calculate ROC AUC\n",
        "roc_auc_score(y_test, manual_proba.reshape(manual_proba.shape[1],))"
      ],
      "execution_count": null,
      "outputs": [
        {
          "output_type": "execute_result",
          "data": {
            "text/plain": [
              "0.627207450280691"
            ]
          },
          "metadata": {
            "tags": []
          },
          "execution_count": 23
        }
      ]
    }
  ]
}