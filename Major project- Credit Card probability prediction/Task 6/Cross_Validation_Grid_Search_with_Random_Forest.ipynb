{
  "nbformat": 4,
  "nbformat_minor": 0,
  "metadata": {
    "kernelspec": {
      "display_name": "Python 3",
      "language": "python",
      "name": "python3"
    },
    "language_info": {
      "codemirror_mode": {
        "name": "ipython",
        "version": 3
      },
      "file_extension": ".py",
      "mimetype": "text/x-python",
      "name": "python",
      "nbconvert_exporter": "python",
      "pygments_lexer": "ipython3",
      "version": "3.7.4"
    },
    "colab": {
      "name": "Cross-Validation_Grid_Search_with_Random_Forest.ipynb",
      "provenance": [],
      "collapsed_sections": []
    }
  },
  "cells": [
    {
      "cell_type": "markdown",
      "metadata": {
        "id": "VZ9wQxazJbL-"
      },
      "source": [
        "**Run the following two cells before you begin.**"
      ]
    },
    {
      "cell_type": "code",
      "metadata": {
        "id": "dNfydSfcJoIT",
        "outputId": "5c495c09-dd75-4569-9147-ac68c26257ee",
        "colab": {
          "base_uri": "https://localhost:8080/",
          "height": 149
        }
      },
      "source": [
        "from google.colab import drive\n",
        "drive.mount('/content/drive')"
      ],
      "execution_count": null,
      "outputs": [
        {
          "output_type": "stream",
          "text": [
            "Mounted at /content/drive\n"
          ],
          "name": "stdout"
        }
      ]
    },
    {
      "cell_type": "code",
      "metadata": {
        "id": "aiRHwuLfJbMB",
        "outputId": "02c11d91-f9e8-4bfb-fcaa-1a3dfbea0049",
        "colab": {
          "base_uri": "https://localhost:8080/",
          "height": 34
        }
      },
      "source": [
        "%autosave 10"
      ],
      "execution_count": null,
      "outputs": [
        {
          "output_type": "display_data",
          "data": {
            "application/javascript": [
              "IPython.notebook.set_autosave_interval(10000)"
            ]
          },
          "metadata": {
            "tags": []
          }
        },
        {
          "output_type": "stream",
          "text": [
            "Autosaving every 10 seconds\n"
          ],
          "name": "stdout"
        }
      ]
    },
    {
      "cell_type": "code",
      "metadata": {
        "id": "oYtPdGr8JbMP"
      },
      "source": [
        "import pandas as pd\n",
        "import numpy as np\n",
        "import matplotlib.pyplot as plt\n",
        "\n",
        "%matplotlib inline\n",
        "\n",
        "df = pd.read_csv('/content/drive/My Drive/Technocolabs project/cleaned_data.csv')"
      ],
      "execution_count": null,
      "outputs": []
    },
    {
      "cell_type": "markdown",
      "metadata": {
        "id": "8psjLaebJbMY"
      },
      "source": [
        "**Run the following 3 cells to create a list of features, create a train/test split, and instantiate a random forest classifier.**"
      ]
    },
    {
      "cell_type": "code",
      "metadata": {
        "id": "IYjVZBgtJbMZ",
        "outputId": "b623576b-5271-42d8-da6c-ab8427e3d671",
        "colab": {
          "base_uri": "https://localhost:8080/",
          "height": 323
        }
      },
      "source": [
        "features_response = df.columns.tolist()\n",
        "items_to_remove = ['ID', 'SEX', 'PAY_2', 'PAY_3', 'PAY_4', 'PAY_5', 'PAY_6',\n",
        "                   'EDUCATION_CAT', 'graduate school', 'high school', 'none',\n",
        "                   'others', 'university']\n",
        "features_response = [item for item in features_response if item not in items_to_remove]\n",
        "features_response"
      ],
      "execution_count": null,
      "outputs": [
        {
          "output_type": "execute_result",
          "data": {
            "text/plain": [
              "['LIMIT_BAL',\n",
              " 'EDUCATION',\n",
              " 'MARRIAGE',\n",
              " 'AGE',\n",
              " 'PAY_1',\n",
              " 'BILL_AMT1',\n",
              " 'BILL_AMT2',\n",
              " 'BILL_AMT3',\n",
              " 'BILL_AMT4',\n",
              " 'BILL_AMT5',\n",
              " 'BILL_AMT6',\n",
              " 'PAY_AMT1',\n",
              " 'PAY_AMT2',\n",
              " 'PAY_AMT3',\n",
              " 'PAY_AMT4',\n",
              " 'PAY_AMT5',\n",
              " 'PAY_AMT6',\n",
              " 'default payment next month']"
            ]
          },
          "metadata": {
            "tags": []
          },
          "execution_count": 5
        }
      ]
    },
    {
      "cell_type": "code",
      "metadata": {
        "id": "ZWuZiu3rJbMg"
      },
      "source": [
        "from sklearn.model_selection import train_test_split\n",
        "\n",
        "X_train, X_test, y_train, y_test = train_test_split(\n",
        "    df[features_response[:-1]].values,\n",
        "    df['default payment next month'].values,\n",
        "    test_size=0.2, random_state=24\n",
        ")"
      ],
      "execution_count": null,
      "outputs": []
    },
    {
      "cell_type": "code",
      "metadata": {
        "id": "B9RqkjxWJbMl"
      },
      "source": [
        "from sklearn.ensemble import RandomForestClassifier\n",
        "\n",
        "rf = RandomForestClassifier(\n",
        "    n_estimators=10, criterion='gini', max_depth=3,\n",
        "    min_samples_split=2, min_samples_leaf=1, min_weight_fraction_leaf=0.0,\n",
        "    max_features='auto', max_leaf_nodes=None, min_impurity_decrease=0.0,\n",
        "    min_impurity_split=None, bootstrap=True, oob_score=False, n_jobs=None,\n",
        "    random_state=4, verbose=0, warm_start=False, class_weight=None\n",
        ")"
      ],
      "execution_count": null,
      "outputs": []
    },
    {
      "cell_type": "markdown",
      "metadata": {
        "id": "oE065xjyJbMp"
      },
      "source": [
        "**Create a dictionary representing the grid for the `max_depth` and `n_estimators` hyperparameters that will be searched. Include depths of 3, 6, 9, and 12, and 10, 50, 100, and 200 trees.**"
      ]
    },
    {
      "cell_type": "code",
      "metadata": {
        "id": "COnWYxA0JbMq",
        "outputId": "cbbb71f2-f78d-487f-8ed5-9bcb372596f1",
        "colab": {
          "base_uri": "https://localhost:8080/",
          "height": 34
        }
      },
      "source": [
        "dict1={'max_depth':[3,6,9,12],'n_estimators':[10,50,100,200]}\n",
        "dict1"
      ],
      "execution_count": null,
      "outputs": [
        {
          "output_type": "execute_result",
          "data": {
            "text/plain": [
              "{'max_depth': [3, 6, 9, 12], 'n_estimators': [10, 50, 100, 200]}"
            ]
          },
          "metadata": {
            "tags": []
          },
          "execution_count": 9
        }
      ]
    },
    {
      "cell_type": "markdown",
      "metadata": {
        "id": "ti5wYqSKJbMt"
      },
      "source": [
        "________________________________________________________________\n",
        "**Instantiate a `GridSearchCV` object using the same options that we have previously in this course, but with the dictionary of hyperparameters created above. Set `verbose=2` to see the output for each fit performed.**"
      ]
    },
    {
      "cell_type": "code",
      "metadata": {
        "id": "mWSAhfoJJbMu"
      },
      "source": [
        "from sklearn.model_selection import GridSearchCV\n",
        "gdcv=GridSearchCV(rf,param_grid=dict1,verbose=2)"
      ],
      "execution_count": null,
      "outputs": []
    },
    {
      "cell_type": "markdown",
      "metadata": {
        "id": "uX5hsYyQJbMx"
      },
      "source": [
        "____________________________________________________\n",
        "**Fit the `GridSearchCV` object on the training data.**"
      ]
    },
    {
      "cell_type": "code",
      "metadata": {
        "id": "ndBmtKRwJbMy",
        "outputId": "768ae297-226f-42fc-efed-e606bdc9174e",
        "colab": {
          "base_uri": "https://localhost:8080/",
          "height": 1000
        }
      },
      "source": [
        "gdcv.fit(X_train,y_train)"
      ],
      "execution_count": null,
      "outputs": [
        {
          "output_type": "stream",
          "text": [
            "Fitting 5 folds for each of 16 candidates, totalling 80 fits\n",
            "[CV] max_depth=3, n_estimators=10 ....................................\n",
            "[CV] ..................... max_depth=3, n_estimators=10, total=   0.2s\n",
            "[CV] max_depth=3, n_estimators=10 ....................................\n"
          ],
          "name": "stdout"
        },
        {
          "output_type": "stream",
          "text": [
            "[Parallel(n_jobs=1)]: Using backend SequentialBackend with 1 concurrent workers.\n",
            "[Parallel(n_jobs=1)]: Done   1 out of   1 | elapsed:    0.2s remaining:    0.0s\n"
          ],
          "name": "stderr"
        },
        {
          "output_type": "stream",
          "text": [
            "[CV] ..................... max_depth=3, n_estimators=10, total=   0.2s\n",
            "[CV] max_depth=3, n_estimators=10 ....................................\n",
            "[CV] ..................... max_depth=3, n_estimators=10, total=   0.1s\n",
            "[CV] max_depth=3, n_estimators=10 ....................................\n",
            "[CV] ..................... max_depth=3, n_estimators=10, total=   0.1s\n",
            "[CV] max_depth=3, n_estimators=10 ....................................\n",
            "[CV] ..................... max_depth=3, n_estimators=10, total=   0.2s\n",
            "[CV] max_depth=3, n_estimators=50 ....................................\n",
            "[CV] ..................... max_depth=3, n_estimators=50, total=   0.7s\n",
            "[CV] max_depth=3, n_estimators=50 ....................................\n",
            "[CV] ..................... max_depth=3, n_estimators=50, total=   0.7s\n",
            "[CV] max_depth=3, n_estimators=50 ....................................\n",
            "[CV] ..................... max_depth=3, n_estimators=50, total=   0.7s\n",
            "[CV] max_depth=3, n_estimators=50 ....................................\n",
            "[CV] ..................... max_depth=3, n_estimators=50, total=   0.7s\n",
            "[CV] max_depth=3, n_estimators=50 ....................................\n",
            "[CV] ..................... max_depth=3, n_estimators=50, total=   0.7s\n",
            "[CV] max_depth=3, n_estimators=100 ...................................\n",
            "[CV] .................... max_depth=3, n_estimators=100, total=   1.4s\n",
            "[CV] max_depth=3, n_estimators=100 ...................................\n",
            "[CV] .................... max_depth=3, n_estimators=100, total=   1.4s\n",
            "[CV] max_depth=3, n_estimators=100 ...................................\n",
            "[CV] .................... max_depth=3, n_estimators=100, total=   1.4s\n",
            "[CV] max_depth=3, n_estimators=100 ...................................\n",
            "[CV] .................... max_depth=3, n_estimators=100, total=   1.4s\n",
            "[CV] max_depth=3, n_estimators=100 ...................................\n",
            "[CV] .................... max_depth=3, n_estimators=100, total=   1.4s\n",
            "[CV] max_depth=3, n_estimators=200 ...................................\n",
            "[CV] .................... max_depth=3, n_estimators=200, total=   2.8s\n",
            "[CV] max_depth=3, n_estimators=200 ...................................\n",
            "[CV] .................... max_depth=3, n_estimators=200, total=   2.8s\n",
            "[CV] max_depth=3, n_estimators=200 ...................................\n",
            "[CV] .................... max_depth=3, n_estimators=200, total=   2.8s\n",
            "[CV] max_depth=3, n_estimators=200 ...................................\n",
            "[CV] .................... max_depth=3, n_estimators=200, total=   2.8s\n",
            "[CV] max_depth=3, n_estimators=200 ...................................\n",
            "[CV] .................... max_depth=3, n_estimators=200, total=   2.8s\n",
            "[CV] max_depth=6, n_estimators=10 ....................................\n",
            "[CV] ..................... max_depth=6, n_estimators=10, total=   0.2s\n",
            "[CV] max_depth=6, n_estimators=10 ....................................\n",
            "[CV] ..................... max_depth=6, n_estimators=10, total=   0.2s\n",
            "[CV] max_depth=6, n_estimators=10 ....................................\n",
            "[CV] ..................... max_depth=6, n_estimators=10, total=   0.2s\n",
            "[CV] max_depth=6, n_estimators=10 ....................................\n",
            "[CV] ..................... max_depth=6, n_estimators=10, total=   0.2s\n",
            "[CV] max_depth=6, n_estimators=10 ....................................\n",
            "[CV] ..................... max_depth=6, n_estimators=10, total=   0.2s\n",
            "[CV] max_depth=6, n_estimators=50 ....................................\n",
            "[CV] ..................... max_depth=6, n_estimators=50, total=   1.2s\n",
            "[CV] max_depth=6, n_estimators=50 ....................................\n",
            "[CV] ..................... max_depth=6, n_estimators=50, total=   1.2s\n",
            "[CV] max_depth=6, n_estimators=50 ....................................\n",
            "[CV] ..................... max_depth=6, n_estimators=50, total=   1.2s\n",
            "[CV] max_depth=6, n_estimators=50 ....................................\n",
            "[CV] ..................... max_depth=6, n_estimators=50, total=   1.2s\n",
            "[CV] max_depth=6, n_estimators=50 ....................................\n",
            "[CV] ..................... max_depth=6, n_estimators=50, total=   1.2s\n",
            "[CV] max_depth=6, n_estimators=100 ...................................\n",
            "[CV] .................... max_depth=6, n_estimators=100, total=   2.4s\n",
            "[CV] max_depth=6, n_estimators=100 ...................................\n",
            "[CV] .................... max_depth=6, n_estimators=100, total=   2.4s\n",
            "[CV] max_depth=6, n_estimators=100 ...................................\n",
            "[CV] .................... max_depth=6, n_estimators=100, total=   2.4s\n",
            "[CV] max_depth=6, n_estimators=100 ...................................\n",
            "[CV] .................... max_depth=6, n_estimators=100, total=   2.4s\n",
            "[CV] max_depth=6, n_estimators=100 ...................................\n",
            "[CV] .................... max_depth=6, n_estimators=100, total=   2.4s\n",
            "[CV] max_depth=6, n_estimators=200 ...................................\n",
            "[CV] .................... max_depth=6, n_estimators=200, total=   4.8s\n",
            "[CV] max_depth=6, n_estimators=200 ...................................\n",
            "[CV] .................... max_depth=6, n_estimators=200, total=   4.8s\n",
            "[CV] max_depth=6, n_estimators=200 ...................................\n",
            "[CV] .................... max_depth=6, n_estimators=200, total=   4.9s\n",
            "[CV] max_depth=6, n_estimators=200 ...................................\n",
            "[CV] .................... max_depth=6, n_estimators=200, total=   4.8s\n",
            "[CV] max_depth=6, n_estimators=200 ...................................\n",
            "[CV] .................... max_depth=6, n_estimators=200, total=   4.8s\n",
            "[CV] max_depth=9, n_estimators=10 ....................................\n",
            "[CV] ..................... max_depth=9, n_estimators=10, total=   0.3s\n",
            "[CV] max_depth=9, n_estimators=10 ....................................\n",
            "[CV] ..................... max_depth=9, n_estimators=10, total=   0.3s\n",
            "[CV] max_depth=9, n_estimators=10 ....................................\n",
            "[CV] ..................... max_depth=9, n_estimators=10, total=   0.3s\n",
            "[CV] max_depth=9, n_estimators=10 ....................................\n",
            "[CV] ..................... max_depth=9, n_estimators=10, total=   0.3s\n",
            "[CV] max_depth=9, n_estimators=10 ....................................\n",
            "[CV] ..................... max_depth=9, n_estimators=10, total=   0.3s\n",
            "[CV] max_depth=9, n_estimators=50 ....................................\n",
            "[CV] ..................... max_depth=9, n_estimators=50, total=   1.7s\n",
            "[CV] max_depth=9, n_estimators=50 ....................................\n",
            "[CV] ..................... max_depth=9, n_estimators=50, total=   1.7s\n",
            "[CV] max_depth=9, n_estimators=50 ....................................\n",
            "[CV] ..................... max_depth=9, n_estimators=50, total=   1.7s\n",
            "[CV] max_depth=9, n_estimators=50 ....................................\n",
            "[CV] ..................... max_depth=9, n_estimators=50, total=   1.7s\n",
            "[CV] max_depth=9, n_estimators=50 ....................................\n",
            "[CV] ..................... max_depth=9, n_estimators=50, total=   1.7s\n",
            "[CV] max_depth=9, n_estimators=100 ...................................\n",
            "[CV] .................... max_depth=9, n_estimators=100, total=   3.3s\n",
            "[CV] max_depth=9, n_estimators=100 ...................................\n",
            "[CV] .................... max_depth=9, n_estimators=100, total=   3.3s\n",
            "[CV] max_depth=9, n_estimators=100 ...................................\n",
            "[CV] .................... max_depth=9, n_estimators=100, total=   3.3s\n",
            "[CV] max_depth=9, n_estimators=100 ...................................\n",
            "[CV] .................... max_depth=9, n_estimators=100, total=   3.3s\n",
            "[CV] max_depth=9, n_estimators=100 ...................................\n",
            "[CV] .................... max_depth=9, n_estimators=100, total=   3.3s\n",
            "[CV] max_depth=9, n_estimators=200 ...................................\n",
            "[CV] .................... max_depth=9, n_estimators=200, total=   6.7s\n",
            "[CV] max_depth=9, n_estimators=200 ...................................\n",
            "[CV] .................... max_depth=9, n_estimators=200, total=   6.7s\n",
            "[CV] max_depth=9, n_estimators=200 ...................................\n",
            "[CV] .................... max_depth=9, n_estimators=200, total=   6.7s\n",
            "[CV] max_depth=9, n_estimators=200 ...................................\n",
            "[CV] .................... max_depth=9, n_estimators=200, total=   6.7s\n",
            "[CV] max_depth=9, n_estimators=200 ...................................\n",
            "[CV] .................... max_depth=9, n_estimators=200, total=   6.6s\n",
            "[CV] max_depth=12, n_estimators=10 ...................................\n",
            "[CV] .................... max_depth=12, n_estimators=10, total=   0.4s\n",
            "[CV] max_depth=12, n_estimators=10 ...................................\n",
            "[CV] .................... max_depth=12, n_estimators=10, total=   0.4s\n",
            "[CV] max_depth=12, n_estimators=10 ...................................\n",
            "[CV] .................... max_depth=12, n_estimators=10, total=   0.4s\n",
            "[CV] max_depth=12, n_estimators=10 ...................................\n",
            "[CV] .................... max_depth=12, n_estimators=10, total=   0.4s\n",
            "[CV] max_depth=12, n_estimators=10 ...................................\n",
            "[CV] .................... max_depth=12, n_estimators=10, total=   0.4s\n",
            "[CV] max_depth=12, n_estimators=50 ...................................\n",
            "[CV] .................... max_depth=12, n_estimators=50, total=   2.1s\n",
            "[CV] max_depth=12, n_estimators=50 ...................................\n",
            "[CV] .................... max_depth=12, n_estimators=50, total=   2.1s\n",
            "[CV] max_depth=12, n_estimators=50 ...................................\n",
            "[CV] .................... max_depth=12, n_estimators=50, total=   2.1s\n",
            "[CV] max_depth=12, n_estimators=50 ...................................\n",
            "[CV] .................... max_depth=12, n_estimators=50, total=   2.5s\n",
            "[CV] max_depth=12, n_estimators=50 ...................................\n",
            "[CV] .................... max_depth=12, n_estimators=50, total=   2.9s\n",
            "[CV] max_depth=12, n_estimators=100 ..................................\n",
            "[CV] ................... max_depth=12, n_estimators=100, total=   5.9s\n",
            "[CV] max_depth=12, n_estimators=100 ..................................\n",
            "[CV] ................... max_depth=12, n_estimators=100, total=   4.2s\n",
            "[CV] max_depth=12, n_estimators=100 ..................................\n",
            "[CV] ................... max_depth=12, n_estimators=100, total=   4.1s\n",
            "[CV] max_depth=12, n_estimators=100 ..................................\n",
            "[CV] ................... max_depth=12, n_estimators=100, total=   4.1s\n",
            "[CV] max_depth=12, n_estimators=100 ..................................\n",
            "[CV] ................... max_depth=12, n_estimators=100, total=   4.1s\n",
            "[CV] max_depth=12, n_estimators=200 ..................................\n",
            "[CV] ................... max_depth=12, n_estimators=200, total=   8.3s\n",
            "[CV] max_depth=12, n_estimators=200 ..................................\n",
            "[CV] ................... max_depth=12, n_estimators=200, total=   8.3s\n",
            "[CV] max_depth=12, n_estimators=200 ..................................\n",
            "[CV] ................... max_depth=12, n_estimators=200, total=   8.3s\n",
            "[CV] max_depth=12, n_estimators=200 ..................................\n",
            "[CV] ................... max_depth=12, n_estimators=200, total=   8.3s\n",
            "[CV] max_depth=12, n_estimators=200 ..................................\n",
            "[CV] ................... max_depth=12, n_estimators=200, total=   8.3s\n"
          ],
          "name": "stdout"
        },
        {
          "output_type": "stream",
          "text": [
            "[Parallel(n_jobs=1)]: Done  80 out of  80 | elapsed:  3.4min finished\n"
          ],
          "name": "stderr"
        },
        {
          "output_type": "execute_result",
          "data": {
            "text/plain": [
              "GridSearchCV(cv=None, error_score=nan,\n",
              "             estimator=RandomForestClassifier(bootstrap=True, ccp_alpha=0.0,\n",
              "                                              class_weight=None,\n",
              "                                              criterion='gini', max_depth=3,\n",
              "                                              max_features='auto',\n",
              "                                              max_leaf_nodes=None,\n",
              "                                              max_samples=None,\n",
              "                                              min_impurity_decrease=0.0,\n",
              "                                              min_impurity_split=None,\n",
              "                                              min_samples_leaf=1,\n",
              "                                              min_samples_split=2,\n",
              "                                              min_weight_fraction_leaf=0.0,\n",
              "                                              n_estimators=10, n_jobs=None,\n",
              "                                              oob_score=False, random_state=4,\n",
              "                                              verbose=0, warm_start=False),\n",
              "             iid='deprecated', n_jobs=None,\n",
              "             param_grid={'max_depth': [3, 6, 9, 12],\n",
              "                         'n_estimators': [10, 50, 100, 200]},\n",
              "             pre_dispatch='2*n_jobs', refit=True, return_train_score=False,\n",
              "             scoring=None, verbose=2)"
            ]
          },
          "metadata": {
            "tags": []
          },
          "execution_count": 14
        }
      ]
    },
    {
      "cell_type": "markdown",
      "metadata": {
        "id": "iVoGQfVqJbM1"
      },
      "source": [
        "___________________________________________________________\n",
        "**Put the results of the grid search in a pandas DataFrame.**"
      ]
    },
    {
      "cell_type": "code",
      "metadata": {
        "scrolled": true,
        "id": "Ak7ttJrQJbM1",
        "outputId": "a6bbdb27-a5c2-429d-b115-17f828d80cf9",
        "colab": {
          "base_uri": "https://localhost:8080/",
          "height": 1000
        }
      },
      "source": [
        "result=pd.DataFrame(gdcv.cv_results_)\n",
        "result"
      ],
      "execution_count": null,
      "outputs": [
        {
          "output_type": "execute_result",
          "data": {
            "text/html": [
              "<div>\n",
              "<style scoped>\n",
              "    .dataframe tbody tr th:only-of-type {\n",
              "        vertical-align: middle;\n",
              "    }\n",
              "\n",
              "    .dataframe tbody tr th {\n",
              "        vertical-align: top;\n",
              "    }\n",
              "\n",
              "    .dataframe thead th {\n",
              "        text-align: right;\n",
              "    }\n",
              "</style>\n",
              "<table border=\"1\" class=\"dataframe\">\n",
              "  <thead>\n",
              "    <tr style=\"text-align: right;\">\n",
              "      <th></th>\n",
              "      <th>mean_fit_time</th>\n",
              "      <th>std_fit_time</th>\n",
              "      <th>mean_score_time</th>\n",
              "      <th>std_score_time</th>\n",
              "      <th>param_max_depth</th>\n",
              "      <th>param_n_estimators</th>\n",
              "      <th>params</th>\n",
              "      <th>split0_test_score</th>\n",
              "      <th>split1_test_score</th>\n",
              "      <th>split2_test_score</th>\n",
              "      <th>split3_test_score</th>\n",
              "      <th>split4_test_score</th>\n",
              "      <th>mean_test_score</th>\n",
              "      <th>std_test_score</th>\n",
              "      <th>rank_test_score</th>\n",
              "    </tr>\n",
              "  </thead>\n",
              "  <tbody>\n",
              "    <tr>\n",
              "      <th>0</th>\n",
              "      <td>0.144996</td>\n",
              "      <td>0.002259</td>\n",
              "      <td>0.004560</td>\n",
              "      <td>0.000116</td>\n",
              "      <td>3</td>\n",
              "      <td>10</td>\n",
              "      <td>{'max_depth': 3, 'n_estimators': 10}</td>\n",
              "      <td>0.814390</td>\n",
              "      <td>0.819269</td>\n",
              "      <td>0.816925</td>\n",
              "      <td>0.824426</td>\n",
              "      <td>0.815284</td>\n",
              "      <td>0.818058</td>\n",
              "      <td>0.003590</td>\n",
              "      <td>11</td>\n",
              "    </tr>\n",
              "    <tr>\n",
              "      <th>1</th>\n",
              "      <td>0.693732</td>\n",
              "      <td>0.002426</td>\n",
              "      <td>0.016676</td>\n",
              "      <td>0.000968</td>\n",
              "      <td>3</td>\n",
              "      <td>50</td>\n",
              "      <td>{'max_depth': 3, 'n_estimators': 50}</td>\n",
              "      <td>0.812046</td>\n",
              "      <td>0.815284</td>\n",
              "      <td>0.814346</td>\n",
              "      <td>0.820206</td>\n",
              "      <td>0.813408</td>\n",
              "      <td>0.815058</td>\n",
              "      <td>0.002788</td>\n",
              "      <td>15</td>\n",
              "    </tr>\n",
              "    <tr>\n",
              "      <th>2</th>\n",
              "      <td>1.372105</td>\n",
              "      <td>0.003224</td>\n",
              "      <td>0.031062</td>\n",
              "      <td>0.000490</td>\n",
              "      <td>3</td>\n",
              "      <td>100</td>\n",
              "      <td>{'max_depth': 3, 'n_estimators': 100}</td>\n",
              "      <td>0.810640</td>\n",
              "      <td>0.812705</td>\n",
              "      <td>0.813408</td>\n",
              "      <td>0.820441</td>\n",
              "      <td>0.810830</td>\n",
              "      <td>0.813605</td>\n",
              "      <td>0.003580</td>\n",
              "      <td>16</td>\n",
              "    </tr>\n",
              "    <tr>\n",
              "      <th>3</th>\n",
              "      <td>2.758375</td>\n",
              "      <td>0.006588</td>\n",
              "      <td>0.060337</td>\n",
              "      <td>0.000249</td>\n",
              "      <td>3</td>\n",
              "      <td>200</td>\n",
              "      <td>{'max_depth': 3, 'n_estimators': 200}</td>\n",
              "      <td>0.811577</td>\n",
              "      <td>0.815518</td>\n",
              "      <td>0.814346</td>\n",
              "      <td>0.821378</td>\n",
              "      <td>0.813408</td>\n",
              "      <td>0.815246</td>\n",
              "      <td>0.003326</td>\n",
              "      <td>14</td>\n",
              "    </tr>\n",
              "    <tr>\n",
              "      <th>4</th>\n",
              "      <td>0.241015</td>\n",
              "      <td>0.001703</td>\n",
              "      <td>0.005309</td>\n",
              "      <td>0.000096</td>\n",
              "      <td>6</td>\n",
              "      <td>10</td>\n",
              "      <td>{'max_depth': 6, 'n_estimators': 10}</td>\n",
              "      <td>0.814390</td>\n",
              "      <td>0.818565</td>\n",
              "      <td>0.819972</td>\n",
              "      <td>0.826301</td>\n",
              "      <td>0.819503</td>\n",
              "      <td>0.819746</td>\n",
              "      <td>0.003825</td>\n",
              "      <td>10</td>\n",
              "    </tr>\n",
              "    <tr>\n",
              "      <th>5</th>\n",
              "      <td>1.186252</td>\n",
              "      <td>0.007223</td>\n",
              "      <td>0.020712</td>\n",
              "      <td>0.000232</td>\n",
              "      <td>6</td>\n",
              "      <td>50</td>\n",
              "      <td>{'max_depth': 6, 'n_estimators': 50}</td>\n",
              "      <td>0.815561</td>\n",
              "      <td>0.819034</td>\n",
              "      <td>0.819737</td>\n",
              "      <td>0.826067</td>\n",
              "      <td>0.820206</td>\n",
              "      <td>0.820121</td>\n",
              "      <td>0.003390</td>\n",
              "      <td>8</td>\n",
              "    </tr>\n",
              "    <tr>\n",
              "      <th>6</th>\n",
              "      <td>2.354236</td>\n",
              "      <td>0.008722</td>\n",
              "      <td>0.041047</td>\n",
              "      <td>0.002341</td>\n",
              "      <td>6</td>\n",
              "      <td>100</td>\n",
              "      <td>{'max_depth': 6, 'n_estimators': 100}</td>\n",
              "      <td>0.815796</td>\n",
              "      <td>0.819972</td>\n",
              "      <td>0.819503</td>\n",
              "      <td>0.827004</td>\n",
              "      <td>0.820206</td>\n",
              "      <td>0.820496</td>\n",
              "      <td>0.003628</td>\n",
              "      <td>3</td>\n",
              "    </tr>\n",
              "    <tr>\n",
              "      <th>7</th>\n",
              "      <td>4.719254</td>\n",
              "      <td>0.036614</td>\n",
              "      <td>0.078293</td>\n",
              "      <td>0.000779</td>\n",
              "      <td>6</td>\n",
              "      <td>200</td>\n",
              "      <td>{'max_depth': 6, 'n_estimators': 200}</td>\n",
              "      <td>0.815796</td>\n",
              "      <td>0.819972</td>\n",
              "      <td>0.819269</td>\n",
              "      <td>0.826770</td>\n",
              "      <td>0.820675</td>\n",
              "      <td>0.820496</td>\n",
              "      <td>0.003557</td>\n",
              "      <td>3</td>\n",
              "    </tr>\n",
              "    <tr>\n",
              "      <th>8</th>\n",
              "      <td>0.335103</td>\n",
              "      <td>0.003535</td>\n",
              "      <td>0.006455</td>\n",
              "      <td>0.000059</td>\n",
              "      <td>9</td>\n",
              "      <td>10</td>\n",
              "      <td>{'max_depth': 9, 'n_estimators': 10}</td>\n",
              "      <td>0.809702</td>\n",
              "      <td>0.815987</td>\n",
              "      <td>0.819972</td>\n",
              "      <td>0.824895</td>\n",
              "      <td>0.816221</td>\n",
              "      <td>0.817355</td>\n",
              "      <td>0.005008</td>\n",
              "      <td>12</td>\n",
              "    </tr>\n",
              "    <tr>\n",
              "      <th>9</th>\n",
              "      <td>1.633180</td>\n",
              "      <td>0.013059</td>\n",
              "      <td>0.026137</td>\n",
              "      <td>0.000525</td>\n",
              "      <td>9</td>\n",
              "      <td>50</td>\n",
              "      <td>{'max_depth': 9, 'n_estimators': 50}</td>\n",
              "      <td>0.815796</td>\n",
              "      <td>0.818565</td>\n",
              "      <td>0.819503</td>\n",
              "      <td>0.826301</td>\n",
              "      <td>0.819972</td>\n",
              "      <td>0.820027</td>\n",
              "      <td>0.003455</td>\n",
              "      <td>9</td>\n",
              "    </tr>\n",
              "    <tr>\n",
              "      <th>10</th>\n",
              "      <td>3.256735</td>\n",
              "      <td>0.013612</td>\n",
              "      <td>0.051436</td>\n",
              "      <td>0.001566</td>\n",
              "      <td>9</td>\n",
              "      <td>100</td>\n",
              "      <td>{'max_depth': 9, 'n_estimators': 100}</td>\n",
              "      <td>0.816264</td>\n",
              "      <td>0.819503</td>\n",
              "      <td>0.819737</td>\n",
              "      <td>0.826535</td>\n",
              "      <td>0.819269</td>\n",
              "      <td>0.820262</td>\n",
              "      <td>0.003382</td>\n",
              "      <td>7</td>\n",
              "    </tr>\n",
              "    <tr>\n",
              "      <th>11</th>\n",
              "      <td>6.560898</td>\n",
              "      <td>0.027966</td>\n",
              "      <td>0.100260</td>\n",
              "      <td>0.001223</td>\n",
              "      <td>9</td>\n",
              "      <td>200</td>\n",
              "      <td>{'max_depth': 9, 'n_estimators': 200}</td>\n",
              "      <td>0.815327</td>\n",
              "      <td>0.819503</td>\n",
              "      <td>0.819737</td>\n",
              "      <td>0.827473</td>\n",
              "      <td>0.820675</td>\n",
              "      <td>0.820543</td>\n",
              "      <td>0.003924</td>\n",
              "      <td>2</td>\n",
              "    </tr>\n",
              "    <tr>\n",
              "      <th>12</th>\n",
              "      <td>0.415407</td>\n",
              "      <td>0.005632</td>\n",
              "      <td>0.007928</td>\n",
              "      <td>0.000123</td>\n",
              "      <td>12</td>\n",
              "      <td>10</td>\n",
              "      <td>{'max_depth': 12, 'n_estimators': 10}</td>\n",
              "      <td>0.816264</td>\n",
              "      <td>0.814112</td>\n",
              "      <td>0.816690</td>\n",
              "      <td>0.825598</td>\n",
              "      <td>0.813408</td>\n",
              "      <td>0.817214</td>\n",
              "      <td>0.004372</td>\n",
              "      <td>13</td>\n",
              "    </tr>\n",
              "    <tr>\n",
              "      <th>13</th>\n",
              "      <td>2.287213</td>\n",
              "      <td>0.323563</td>\n",
              "      <td>0.037587</td>\n",
              "      <td>0.005025</td>\n",
              "      <td>12</td>\n",
              "      <td>50</td>\n",
              "      <td>{'max_depth': 12, 'n_estimators': 50}</td>\n",
              "      <td>0.817436</td>\n",
              "      <td>0.817862</td>\n",
              "      <td>0.819737</td>\n",
              "      <td>0.827004</td>\n",
              "      <td>0.820441</td>\n",
              "      <td>0.820496</td>\n",
              "      <td>0.003442</td>\n",
              "      <td>6</td>\n",
              "    </tr>\n",
              "    <tr>\n",
              "      <th>14</th>\n",
              "      <td>4.441827</td>\n",
              "      <td>0.698115</td>\n",
              "      <td>0.068315</td>\n",
              "      <td>0.007795</td>\n",
              "      <td>12</td>\n",
              "      <td>100</td>\n",
              "      <td>{'max_depth': 12, 'n_estimators': 100}</td>\n",
              "      <td>0.815796</td>\n",
              "      <td>0.816925</td>\n",
              "      <td>0.820675</td>\n",
              "      <td>0.828645</td>\n",
              "      <td>0.820441</td>\n",
              "      <td>0.820496</td>\n",
              "      <td>0.004501</td>\n",
              "      <td>3</td>\n",
              "    </tr>\n",
              "    <tr>\n",
              "      <th>15</th>\n",
              "      <td>8.170304</td>\n",
              "      <td>0.006842</td>\n",
              "      <td>0.127629</td>\n",
              "      <td>0.002658</td>\n",
              "      <td>12</td>\n",
              "      <td>200</td>\n",
              "      <td>{'max_depth': 12, 'n_estimators': 200}</td>\n",
              "      <td>0.816967</td>\n",
              "      <td>0.817862</td>\n",
              "      <td>0.821613</td>\n",
              "      <td>0.828411</td>\n",
              "      <td>0.819034</td>\n",
              "      <td>0.820777</td>\n",
              "      <td>0.004124</td>\n",
              "      <td>1</td>\n",
              "    </tr>\n",
              "  </tbody>\n",
              "</table>\n",
              "</div>"
            ],
            "text/plain": [
              "    mean_fit_time  std_fit_time  ...  std_test_score  rank_test_score\n",
              "0        0.144996      0.002259  ...        0.003590               11\n",
              "1        0.693732      0.002426  ...        0.002788               15\n",
              "2        1.372105      0.003224  ...        0.003580               16\n",
              "3        2.758375      0.006588  ...        0.003326               14\n",
              "4        0.241015      0.001703  ...        0.003825               10\n",
              "5        1.186252      0.007223  ...        0.003390                8\n",
              "6        2.354236      0.008722  ...        0.003628                3\n",
              "7        4.719254      0.036614  ...        0.003557                3\n",
              "8        0.335103      0.003535  ...        0.005008               12\n",
              "9        1.633180      0.013059  ...        0.003455                9\n",
              "10       3.256735      0.013612  ...        0.003382                7\n",
              "11       6.560898      0.027966  ...        0.003924                2\n",
              "12       0.415407      0.005632  ...        0.004372               13\n",
              "13       2.287213      0.323563  ...        0.003442                6\n",
              "14       4.441827      0.698115  ...        0.004501                3\n",
              "15       8.170304      0.006842  ...        0.004124                1\n",
              "\n",
              "[16 rows x 15 columns]"
            ]
          },
          "metadata": {
            "tags": []
          },
          "execution_count": 15
        }
      ]
    },
    {
      "cell_type": "markdown",
      "metadata": {
        "id": "DEeoWdhhJbM5"
      },
      "source": [
        "**Find the best hyperparameters from the cross-validation.**"
      ]
    },
    {
      "cell_type": "code",
      "metadata": {
        "id": "YGzSv7T3JbM5",
        "outputId": "4854d302-f62e-45bd-8cb1-72ac007fa6e3",
        "colab": {
          "base_uri": "https://localhost:8080/",
          "height": 34
        }
      },
      "source": [
        "gdcv.best_params_"
      ],
      "execution_count": null,
      "outputs": [
        {
          "output_type": "execute_result",
          "data": {
            "text/plain": [
              "{'max_depth': 12, 'n_estimators': 200}"
            ]
          },
          "metadata": {
            "tags": []
          },
          "execution_count": 16
        }
      ]
    },
    {
      "cell_type": "markdown",
      "metadata": {
        "id": "fJrsUx2XJbM8"
      },
      "source": [
        "________________________________________________________________________________________________________\n",
        "**Create a `pcolormesh` visualization of the mean testing score for each combination of hyperparameters.**\n",
        "\n",
        "<details>\n",
        "    <summary>Hint:</summary>\n",
        "    Remember to reshape the values of the mean testing scores to be a two-dimensional 4x4 grid.\n",
        "</details>"
      ]
    },
    {
      "cell_type": "code",
      "metadata": {
        "id": "25yX1cXAJbM9",
        "outputId": "85be2e50-065e-463e-da46-905f2b4c857a",
        "colab": {
          "base_uri": "https://localhost:8080/",
          "height": 289
        }
      },
      "source": [
        "# Create a 5x5 grid\n",
        "xx, yy = np.meshgrid(range(5), range(5))\n",
        "print(xx)\n",
        "print(yy)\n",
        "print(xx.shape)\n",
        "print(yy.shape)\n",
        "gds_res_mean_ts_rs=result['mean_test_score'].values.reshape(4,4)\n",
        "gds_res_mean_ts_rs"
      ],
      "execution_count": null,
      "outputs": [
        {
          "output_type": "stream",
          "text": [
            "[[0 1 2 3 4]\n",
            " [0 1 2 3 4]\n",
            " [0 1 2 3 4]\n",
            " [0 1 2 3 4]\n",
            " [0 1 2 3 4]]\n",
            "[[0 0 0 0 0]\n",
            " [1 1 1 1 1]\n",
            " [2 2 2 2 2]\n",
            " [3 3 3 3 3]\n",
            " [4 4 4 4 4]]\n",
            "(5, 5)\n",
            "(5, 5)\n"
          ],
          "name": "stdout"
        },
        {
          "output_type": "execute_result",
          "data": {
            "text/plain": [
              "array([[0.8180584 , 0.81505804, 0.81360475, 0.81524559],\n",
              "       [0.81974616, 0.82012116, 0.82049621, 0.82049621],\n",
              "       [0.81735538, 0.82002739, 0.82026178, 0.82054312],\n",
              "       [0.81721443, 0.82049614, 0.82049621, 0.82077745]])"
            ]
          },
          "metadata": {
            "tags": []
          },
          "execution_count": 17
        }
      ]
    },
    {
      "cell_type": "code",
      "metadata": {
        "id": "cJxRqjyvJbNA",
        "outputId": "957ebd44-2c5d-4756-dffa-dec4438ddc6f",
        "colab": {
          "base_uri": "https://localhost:8080/",
          "height": 269
        }
      },
      "source": [
        "# Set color map to `plt.cm.jet`\n",
        "ax=plt.axes()\n",
        "pcolor=ax.pcolormesh(xx,yy,gds_res_mean_ts_rs,cmap=plt.cm.jet)"
      ],
      "execution_count": null,
      "outputs": [
        {
          "output_type": "display_data",
          "data": {
            "image/png": "[encoded data removed]",
            "text/plain": [
              "<Figure size 432x288 with 1 Axes>"
            ]
          },
          "metadata": {
            "tags": [],
            "needs_background": "light"
          }
        }
      ]
    },
    {
      "cell_type": "code",
      "metadata": {
        "eid": "f0c62",
        "id": "jj2xy1q7JbND",
        "outputId": "29866022-38c6-46dc-9064-5220984af1e6",
        "colab": {
          "base_uri": "https://localhost:8080/",
          "height": 300
        }
      },
      "source": [
        "# Visualize pcolormesh\n",
        "ax=plt.axes()\n",
        "pcolor=ax.pcolormesh(xx,yy,gds_res_mean_ts_rs,cmap=plt.cm.jet)\n",
        "plt.colorbar(pcolor, label='Color scale')\n",
        "ax.set_xlabel('X coordinate')\n",
        "ax.set_ylabel('Y coordinate')"
      ],
      "execution_count": null,
      "outputs": [
        {
          "output_type": "execute_result",
          "data": {
            "text/plain": [
              "Text(0, 0.5, 'Y coordinate')"
            ]
          },
          "metadata": {
            "tags": []
          },
          "execution_count": 19
        },
        {
          "output_type": "display_data",
          "data": {
            "image/png": "[encoded data removed]",
            "text/plain": [
              "<Figure size 432x288 with 2 Axes>"
            ]
          },
          "metadata": {
            "tags": [],
            "needs_background": "light"
          }
        }
      ]
    },
    {
      "cell_type": "markdown",
      "metadata": {
        "id": "MTz6GkVGJbNG"
      },
      "source": [
        "________________________________________________________________________________________________________\n",
        "**Conclude which set of hyperparameters to use.**"
      ]
    },
    {
      "cell_type": "code",
      "metadata": {
        "id": "P4DSiBDwJbNH",
        "outputId": "29280759-2ca7-4013-f4e1-370434fbe726",
        "colab": {
          "base_uri": "https://localhost:8080/",
          "height": 576
        }
      },
      "source": [
        "# Create a dataframe of the feature names and importance\n",
        "df_features_imp=pd.DataFrame({'Features':features_response[:-1],'Importance':gdcv.best_estimator_.feature_importances_})\n",
        "df_features_imp"
      ],
      "execution_count": null,
      "outputs": [
        {
          "output_type": "execute_result",
          "data": {
            "text/html": [
              "<div>\n",
              "<style scoped>\n",
              "    .dataframe tbody tr th:only-of-type {\n",
              "        vertical-align: middle;\n",
              "    }\n",
              "\n",
              "    .dataframe tbody tr th {\n",
              "        vertical-align: top;\n",
              "    }\n",
              "\n",
              "    .dataframe thead th {\n",
              "        text-align: right;\n",
              "    }\n",
              "</style>\n",
              "<table border=\"1\" class=\"dataframe\">\n",
              "  <thead>\n",
              "    <tr style=\"text-align: right;\">\n",
              "      <th></th>\n",
              "      <th>Features</th>\n",
              "      <th>Importance</th>\n",
              "    </tr>\n",
              "  </thead>\n",
              "  <tbody>\n",
              "    <tr>\n",
              "      <th>0</th>\n",
              "      <td>LIMIT_BAL</td>\n",
              "      <td>0.059877</td>\n",
              "    </tr>\n",
              "    <tr>\n",
              "      <th>1</th>\n",
              "      <td>EDUCATION</td>\n",
              "      <td>0.012451</td>\n",
              "    </tr>\n",
              "    <tr>\n",
              "      <th>2</th>\n",
              "      <td>MARRIAGE</td>\n",
              "      <td>0.007819</td>\n",
              "    </tr>\n",
              "    <tr>\n",
              "      <th>3</th>\n",
              "      <td>AGE</td>\n",
              "      <td>0.042871</td>\n",
              "    </tr>\n",
              "    <tr>\n",
              "      <th>4</th>\n",
              "      <td>PAY_1</td>\n",
              "      <td>0.304592</td>\n",
              "    </tr>\n",
              "    <tr>\n",
              "      <th>5</th>\n",
              "      <td>BILL_AMT1</td>\n",
              "      <td>0.053973</td>\n",
              "    </tr>\n",
              "    <tr>\n",
              "      <th>6</th>\n",
              "      <td>BILL_AMT2</td>\n",
              "      <td>0.052029</td>\n",
              "    </tr>\n",
              "    <tr>\n",
              "      <th>7</th>\n",
              "      <td>BILL_AMT3</td>\n",
              "      <td>0.048639</td>\n",
              "    </tr>\n",
              "    <tr>\n",
              "      <th>8</th>\n",
              "      <td>BILL_AMT4</td>\n",
              "      <td>0.046171</td>\n",
              "    </tr>\n",
              "    <tr>\n",
              "      <th>9</th>\n",
              "      <td>BILL_AMT5</td>\n",
              "      <td>0.043062</td>\n",
              "    </tr>\n",
              "    <tr>\n",
              "      <th>10</th>\n",
              "      <td>BILL_AMT6</td>\n",
              "      <td>0.045718</td>\n",
              "    </tr>\n",
              "    <tr>\n",
              "      <th>11</th>\n",
              "      <td>PAY_AMT1</td>\n",
              "      <td>0.060596</td>\n",
              "    </tr>\n",
              "    <tr>\n",
              "      <th>12</th>\n",
              "      <td>PAY_AMT2</td>\n",
              "      <td>0.051697</td>\n",
              "    </tr>\n",
              "    <tr>\n",
              "      <th>13</th>\n",
              "      <td>PAY_AMT3</td>\n",
              "      <td>0.048254</td>\n",
              "    </tr>\n",
              "    <tr>\n",
              "      <th>14</th>\n",
              "      <td>PAY_AMT4</td>\n",
              "      <td>0.042495</td>\n",
              "    </tr>\n",
              "    <tr>\n",
              "      <th>15</th>\n",
              "      <td>PAY_AMT5</td>\n",
              "      <td>0.039981</td>\n",
              "    </tr>\n",
              "    <tr>\n",
              "      <th>16</th>\n",
              "      <td>PAY_AMT6</td>\n",
              "      <td>0.039775</td>\n",
              "    </tr>\n",
              "  </tbody>\n",
              "</table>\n",
              "</div>"
            ],
            "text/plain": [
              "     Features  Importance\n",
              "0   LIMIT_BAL    0.059877\n",
              "1   EDUCATION    0.012451\n",
              "2    MARRIAGE    0.007819\n",
              "3         AGE    0.042871\n",
              "4       PAY_1    0.304592\n",
              "5   BILL_AMT1    0.053973\n",
              "6   BILL_AMT2    0.052029\n",
              "7   BILL_AMT3    0.048639\n",
              "8   BILL_AMT4    0.046171\n",
              "9   BILL_AMT5    0.043062\n",
              "10  BILL_AMT6    0.045718\n",
              "11   PAY_AMT1    0.060596\n",
              "12   PAY_AMT2    0.051697\n",
              "13   PAY_AMT3    0.048254\n",
              "14   PAY_AMT4    0.042495\n",
              "15   PAY_AMT5    0.039981\n",
              "16   PAY_AMT6    0.039775"
            ]
          },
          "metadata": {
            "tags": []
          },
          "execution_count": 21
        }
      ]
    },
    {
      "cell_type": "code",
      "metadata": {
        "id": "oVPz6ddIJbNK",
        "outputId": "e7fff254-7873-49c4-85ac-00466378a427",
        "colab": {
          "base_uri": "https://localhost:8080/",
          "height": 576
        }
      },
      "source": [
        "# Sort values by importance\n",
        "df_features_imp.sort_values(by='Importance',ascending=False)"
      ],
      "execution_count": null,
      "outputs": [
        {
          "output_type": "execute_result",
          "data": {
            "text/html": [
              "<div>\n",
              "<style scoped>\n",
              "    .dataframe tbody tr th:only-of-type {\n",
              "        vertical-align: middle;\n",
              "    }\n",
              "\n",
              "    .dataframe tbody tr th {\n",
              "        vertical-align: top;\n",
              "    }\n",
              "\n",
              "    .dataframe thead th {\n",
              "        text-align: right;\n",
              "    }\n",
              "</style>\n",
              "<table border=\"1\" class=\"dataframe\">\n",
              "  <thead>\n",
              "    <tr style=\"text-align: right;\">\n",
              "      <th></th>\n",
              "      <th>Features</th>\n",
              "      <th>Importance</th>\n",
              "    </tr>\n",
              "  </thead>\n",
              "  <tbody>\n",
              "    <tr>\n",
              "      <th>4</th>\n",
              "      <td>PAY_1</td>\n",
              "      <td>0.304592</td>\n",
              "    </tr>\n",
              "    <tr>\n",
              "      <th>11</th>\n",
              "      <td>PAY_AMT1</td>\n",
              "      <td>0.060596</td>\n",
              "    </tr>\n",
              "    <tr>\n",
              "      <th>0</th>\n",
              "      <td>LIMIT_BAL</td>\n",
              "      <td>0.059877</td>\n",
              "    </tr>\n",
              "    <tr>\n",
              "      <th>5</th>\n",
              "      <td>BILL_AMT1</td>\n",
              "      <td>0.053973</td>\n",
              "    </tr>\n",
              "    <tr>\n",
              "      <th>6</th>\n",
              "      <td>BILL_AMT2</td>\n",
              "      <td>0.052029</td>\n",
              "    </tr>\n",
              "    <tr>\n",
              "      <th>12</th>\n",
              "      <td>PAY_AMT2</td>\n",
              "      <td>0.051697</td>\n",
              "    </tr>\n",
              "    <tr>\n",
              "      <th>7</th>\n",
              "      <td>BILL_AMT3</td>\n",
              "      <td>0.048639</td>\n",
              "    </tr>\n",
              "    <tr>\n",
              "      <th>13</th>\n",
              "      <td>PAY_AMT3</td>\n",
              "      <td>0.048254</td>\n",
              "    </tr>\n",
              "    <tr>\n",
              "      <th>8</th>\n",
              "      <td>BILL_AMT4</td>\n",
              "      <td>0.046171</td>\n",
              "    </tr>\n",
              "    <tr>\n",
              "      <th>10</th>\n",
              "      <td>BILL_AMT6</td>\n",
              "      <td>0.045718</td>\n",
              "    </tr>\n",
              "    <tr>\n",
              "      <th>9</th>\n",
              "      <td>BILL_AMT5</td>\n",
              "      <td>0.043062</td>\n",
              "    </tr>\n",
              "    <tr>\n",
              "      <th>3</th>\n",
              "      <td>AGE</td>\n",
              "      <td>0.042871</td>\n",
              "    </tr>\n",
              "    <tr>\n",
              "      <th>14</th>\n",
              "      <td>PAY_AMT4</td>\n",
              "      <td>0.042495</td>\n",
              "    </tr>\n",
              "    <tr>\n",
              "      <th>15</th>\n",
              "      <td>PAY_AMT5</td>\n",
              "      <td>0.039981</td>\n",
              "    </tr>\n",
              "    <tr>\n",
              "      <th>16</th>\n",
              "      <td>PAY_AMT6</td>\n",
              "      <td>0.039775</td>\n",
              "    </tr>\n",
              "    <tr>\n",
              "      <th>1</th>\n",
              "      <td>EDUCATION</td>\n",
              "      <td>0.012451</td>\n",
              "    </tr>\n",
              "    <tr>\n",
              "      <th>2</th>\n",
              "      <td>MARRIAGE</td>\n",
              "      <td>0.007819</td>\n",
              "    </tr>\n",
              "  </tbody>\n",
              "</table>\n",
              "</div>"
            ],
            "text/plain": [
              "     Features  Importance\n",
              "4       PAY_1    0.304592\n",
              "11   PAY_AMT1    0.060596\n",
              "0   LIMIT_BAL    0.059877\n",
              "5   BILL_AMT1    0.053973\n",
              "6   BILL_AMT2    0.052029\n",
              "12   PAY_AMT2    0.051697\n",
              "7   BILL_AMT3    0.048639\n",
              "13   PAY_AMT3    0.048254\n",
              "8   BILL_AMT4    0.046171\n",
              "10  BILL_AMT6    0.045718\n",
              "9   BILL_AMT5    0.043062\n",
              "3         AGE    0.042871\n",
              "14   PAY_AMT4    0.042495\n",
              "15   PAY_AMT5    0.039981\n",
              "16   PAY_AMT6    0.039775\n",
              "1   EDUCATION    0.012451\n",
              "2    MARRIAGE    0.007819"
            ]
          },
          "metadata": {
            "tags": []
          },
          "execution_count": 22
        }
      ]
    }
  ]
}